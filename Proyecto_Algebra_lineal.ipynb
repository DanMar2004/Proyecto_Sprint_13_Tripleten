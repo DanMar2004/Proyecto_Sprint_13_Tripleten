{
 "cells": [
  {
   "cell_type": "markdown",
   "metadata": {},
   "source": [
    "# Descripción"
   ]
  },
  {
   "cell_type": "markdown",
   "metadata": {},
   "source": [
    "La compañía de seguros Sure Tomorrow quiere resolver varias tareas con la ayuda de machine learning y te pide que evalúes esa posibilidad.\n",
    "- Tarea 1: encontrar clientes que sean similares a un cliente determinado. Esto ayudará a los agentes de la compañía con el marketing.\n",
    "- Tarea 2: predecir la probabilidad de que un nuevo cliente reciba una prestación del seguro. ¿Puede un modelo de predictivo funcionar mejor que un modelo dummy?\n",
    "- Tarea 3: predecir el número de prestaciones de seguro que un nuevo cliente pueda recibir utilizando un modelo de regresión lineal.\n",
    "- Tarea 4: proteger los datos personales de los clientes sin afectar al modelo del ejercicio anterior. Es necesario desarrollar un algoritmo de transformación de datos que dificulte la recuperación de la información personal si los datos caen en manos equivocadas. Esto se denomina enmascaramiento u ofuscación de datos. Pero los datos deben protegerse de tal manera que no se vea afectada la calidad de los modelos de machine learning. No es necesario elegir el mejor modelo, basta con demostrar que el algoritmo funciona correctamente.\n"
   ]
  },
  {
   "cell_type": "markdown",
   "metadata": {},
   "source": [
    "# Preprocesamiento y exploración de datos\n"
   ]
  },
  {
   "cell_type": "code",
   "execution_count": null,
   "metadata": {},
   "outputs": [],
   "source": [
    "# Impotación de librerías\n",
    "import numpy as np\n",
    "import pandas as pd\n",
    "\n",
    "import math\n",
    "\n",
    "import seaborn as sns\n",
    "import matplotlib.pyplot as plt\n",
    "\n",
    "import sklearn.linear_model\n",
    "import sklearn.metrics\n",
    "import sklearn.neighbors\n",
    "import sklearn.preprocessing\n",
    "\n",
    "from sklearn.neighbors import NearestNeighbors, KNeighborsClassifier\n",
    "\n",
    "from sklearn.model_selection import train_test_split\n",
    "\n",
    "from IPython.display import display"
   ]
  },
  {
   "cell_type": "markdown",
   "metadata": {},
   "source": [
    "### Carga de datos"
   ]
  },
  {
   "cell_type": "code",
   "execution_count": null,
   "metadata": {},
   "outputs": [],
   "source": [
    "# Importación de datos\n",
    "df = pd.read_csv('data/insurance_us.csv')"
   ]
  },
  {
   "cell_type": "markdown",
   "metadata": {},
   "source": [
    "Renombramos las columnas para que el código se vea más coherente con su estilo."
   ]
  },
  {
   "cell_type": "code",
   "execution_count": 5,
   "metadata": {},
   "outputs": [],
   "source": [
    "# Renombrar columnas para facilitar el uso\n",
    "df = df.rename(columns={'Gender': 'gender', 'Age': 'age', 'Salary': 'income', 'Family members': 'family_members', 'Insurance benefits': 'insurance_benefits'})"
   ]
  },
  {
   "cell_type": "code",
   "execution_count": 6,
   "metadata": {},
   "outputs": [
    {
     "data": {
      "text/html": [
       "<div>\n",
       "<style scoped>\n",
       "    .dataframe tbody tr th:only-of-type {\n",
       "        vertical-align: middle;\n",
       "    }\n",
       "\n",
       "    .dataframe tbody tr th {\n",
       "        vertical-align: top;\n",
       "    }\n",
       "\n",
       "    .dataframe thead th {\n",
       "        text-align: right;\n",
       "    }\n",
       "</style>\n",
       "<table border=\"1\" class=\"dataframe\">\n",
       "  <thead>\n",
       "    <tr style=\"text-align: right;\">\n",
       "      <th></th>\n",
       "      <th>gender</th>\n",
       "      <th>age</th>\n",
       "      <th>income</th>\n",
       "      <th>family_members</th>\n",
       "      <th>insurance_benefits</th>\n",
       "    </tr>\n",
       "  </thead>\n",
       "  <tbody>\n",
       "    <tr>\n",
       "      <th>4663</th>\n",
       "      <td>0</td>\n",
       "      <td>37.0</td>\n",
       "      <td>37800.0</td>\n",
       "      <td>1</td>\n",
       "      <td>0</td>\n",
       "    </tr>\n",
       "    <tr>\n",
       "      <th>715</th>\n",
       "      <td>0</td>\n",
       "      <td>22.0</td>\n",
       "      <td>53900.0</td>\n",
       "      <td>1</td>\n",
       "      <td>0</td>\n",
       "    </tr>\n",
       "    <tr>\n",
       "      <th>2438</th>\n",
       "      <td>1</td>\n",
       "      <td>25.0</td>\n",
       "      <td>49600.0</td>\n",
       "      <td>6</td>\n",
       "      <td>0</td>\n",
       "    </tr>\n",
       "    <tr>\n",
       "      <th>2792</th>\n",
       "      <td>0</td>\n",
       "      <td>40.0</td>\n",
       "      <td>21100.0</td>\n",
       "      <td>0</td>\n",
       "      <td>0</td>\n",
       "    </tr>\n",
       "    <tr>\n",
       "      <th>1984</th>\n",
       "      <td>0</td>\n",
       "      <td>39.0</td>\n",
       "      <td>44600.0</td>\n",
       "      <td>3</td>\n",
       "      <td>0</td>\n",
       "    </tr>\n",
       "    <tr>\n",
       "      <th>4417</th>\n",
       "      <td>0</td>\n",
       "      <td>39.0</td>\n",
       "      <td>25700.0</td>\n",
       "      <td>5</td>\n",
       "      <td>0</td>\n",
       "    </tr>\n",
       "    <tr>\n",
       "      <th>356</th>\n",
       "      <td>1</td>\n",
       "      <td>30.0</td>\n",
       "      <td>31600.0</td>\n",
       "      <td>3</td>\n",
       "      <td>0</td>\n",
       "    </tr>\n",
       "    <tr>\n",
       "      <th>4738</th>\n",
       "      <td>1</td>\n",
       "      <td>24.0</td>\n",
       "      <td>48500.0</td>\n",
       "      <td>1</td>\n",
       "      <td>0</td>\n",
       "    </tr>\n",
       "    <tr>\n",
       "      <th>3736</th>\n",
       "      <td>1</td>\n",
       "      <td>28.0</td>\n",
       "      <td>43800.0</td>\n",
       "      <td>2</td>\n",
       "      <td>0</td>\n",
       "    </tr>\n",
       "    <tr>\n",
       "      <th>3487</th>\n",
       "      <td>1</td>\n",
       "      <td>22.0</td>\n",
       "      <td>46500.0</td>\n",
       "      <td>1</td>\n",
       "      <td>0</td>\n",
       "    </tr>\n",
       "    <tr>\n",
       "      <th>213</th>\n",
       "      <td>1</td>\n",
       "      <td>43.0</td>\n",
       "      <td>60300.0</td>\n",
       "      <td>0</td>\n",
       "      <td>1</td>\n",
       "    </tr>\n",
       "    <tr>\n",
       "      <th>272</th>\n",
       "      <td>0</td>\n",
       "      <td>38.0</td>\n",
       "      <td>32800.0</td>\n",
       "      <td>1</td>\n",
       "      <td>0</td>\n",
       "    </tr>\n",
       "    <tr>\n",
       "      <th>2520</th>\n",
       "      <td>1</td>\n",
       "      <td>21.0</td>\n",
       "      <td>46100.0</td>\n",
       "      <td>2</td>\n",
       "      <td>0</td>\n",
       "    </tr>\n",
       "    <tr>\n",
       "      <th>2422</th>\n",
       "      <td>0</td>\n",
       "      <td>20.0</td>\n",
       "      <td>27700.0</td>\n",
       "      <td>0</td>\n",
       "      <td>0</td>\n",
       "    </tr>\n",
       "    <tr>\n",
       "      <th>410</th>\n",
       "      <td>0</td>\n",
       "      <td>32.0</td>\n",
       "      <td>39700.0</td>\n",
       "      <td>1</td>\n",
       "      <td>0</td>\n",
       "    </tr>\n",
       "    <tr>\n",
       "      <th>2487</th>\n",
       "      <td>0</td>\n",
       "      <td>18.0</td>\n",
       "      <td>23100.0</td>\n",
       "      <td>0</td>\n",
       "      <td>0</td>\n",
       "    </tr>\n",
       "    <tr>\n",
       "      <th>3624</th>\n",
       "      <td>0</td>\n",
       "      <td>27.0</td>\n",
       "      <td>29700.0</td>\n",
       "      <td>2</td>\n",
       "      <td>0</td>\n",
       "    </tr>\n",
       "    <tr>\n",
       "      <th>4840</th>\n",
       "      <td>1</td>\n",
       "      <td>31.0</td>\n",
       "      <td>45700.0</td>\n",
       "      <td>1</td>\n",
       "      <td>0</td>\n",
       "    </tr>\n",
       "    <tr>\n",
       "      <th>4495</th>\n",
       "      <td>0</td>\n",
       "      <td>35.0</td>\n",
       "      <td>42900.0</td>\n",
       "      <td>1</td>\n",
       "      <td>0</td>\n",
       "    </tr>\n",
       "    <tr>\n",
       "      <th>1973</th>\n",
       "      <td>1</td>\n",
       "      <td>27.0</td>\n",
       "      <td>46600.0</td>\n",
       "      <td>1</td>\n",
       "      <td>0</td>\n",
       "    </tr>\n",
       "  </tbody>\n",
       "</table>\n",
       "</div>"
      ],
      "text/plain": [
       "      gender   age   income  family_members  insurance_benefits\n",
       "4663       0  37.0  37800.0               1                   0\n",
       "715        0  22.0  53900.0               1                   0\n",
       "2438       1  25.0  49600.0               6                   0\n",
       "2792       0  40.0  21100.0               0                   0\n",
       "1984       0  39.0  44600.0               3                   0\n",
       "4417       0  39.0  25700.0               5                   0\n",
       "356        1  30.0  31600.0               3                   0\n",
       "4738       1  24.0  48500.0               1                   0\n",
       "3736       1  28.0  43800.0               2                   0\n",
       "3487       1  22.0  46500.0               1                   0\n",
       "213        1  43.0  60300.0               0                   1\n",
       "272        0  38.0  32800.0               1                   0\n",
       "2520       1  21.0  46100.0               2                   0\n",
       "2422       0  20.0  27700.0               0                   0\n",
       "410        0  32.0  39700.0               1                   0\n",
       "2487       0  18.0  23100.0               0                   0\n",
       "3624       0  27.0  29700.0               2                   0\n",
       "4840       1  31.0  45700.0               1                   0\n",
       "4495       0  35.0  42900.0               1                   0\n",
       "1973       1  27.0  46600.0               1                   0"
      ]
     },
     "execution_count": 6,
     "metadata": {},
     "output_type": "execute_result"
    }
   ],
   "source": [
    "# Mostrar las primeras filas del DataFrame\n",
    "df.sample(20)"
   ]
  },
  {
   "cell_type": "code",
   "execution_count": 7,
   "metadata": {},
   "outputs": [
    {
     "name": "stdout",
     "output_type": "stream",
     "text": [
      "<class 'pandas.core.frame.DataFrame'>\n",
      "RangeIndex: 5000 entries, 0 to 4999\n",
      "Data columns (total 5 columns):\n",
      " #   Column              Non-Null Count  Dtype  \n",
      "---  ------              --------------  -----  \n",
      " 0   gender              5000 non-null   int64  \n",
      " 1   age                 5000 non-null   float64\n",
      " 2   income              5000 non-null   float64\n",
      " 3   family_members      5000 non-null   int64  \n",
      " 4   insurance_benefits  5000 non-null   int64  \n",
      "dtypes: float64(2), int64(3)\n",
      "memory usage: 195.4 KB\n"
     ]
    }
   ],
   "source": [
    "# Mostrar información general del DataFrame\n",
    "df.info()"
   ]
  },
  {
   "cell_type": "code",
   "execution_count": 8,
   "metadata": {},
   "outputs": [],
   "source": [
    "# Cambiar el tipo de datos de la columna 'age' a int\n",
    "df['age'] = df['age'].astype(int)"
   ]
  },
  {
   "cell_type": "code",
   "execution_count": 9,
   "metadata": {},
   "outputs": [
    {
     "name": "stdout",
     "output_type": "stream",
     "text": [
      "<class 'pandas.core.frame.DataFrame'>\n",
      "RangeIndex: 5000 entries, 0 to 4999\n",
      "Data columns (total 5 columns):\n",
      " #   Column              Non-Null Count  Dtype  \n",
      "---  ------              --------------  -----  \n",
      " 0   gender              5000 non-null   int64  \n",
      " 1   age                 5000 non-null   int64  \n",
      " 2   income              5000 non-null   float64\n",
      " 3   family_members      5000 non-null   int64  \n",
      " 4   insurance_benefits  5000 non-null   int64  \n",
      "dtypes: float64(1), int64(4)\n",
      "memory usage: 195.4 KB\n"
     ]
    }
   ],
   "source": [
    "# comprueba que la conversión se haya realizado con éxito\n",
    "df.info()"
   ]
  },
  {
   "cell_type": "code",
   "execution_count": null,
   "metadata": {},
   "outputs": [
    {
     "data": {
      "text/html": [
       "<div>\n",
       "<style scoped>\n",
       "    .dataframe tbody tr th:only-of-type {\n",
       "        vertical-align: middle;\n",
       "    }\n",
       "\n",
       "    .dataframe tbody tr th {\n",
       "        vertical-align: top;\n",
       "    }\n",
       "\n",
       "    .dataframe thead th {\n",
       "        text-align: right;\n",
       "    }\n",
       "</style>\n",
       "<table border=\"1\" class=\"dataframe\">\n",
       "  <thead>\n",
       "    <tr style=\"text-align: right;\">\n",
       "      <th></th>\n",
       "      <th>gender</th>\n",
       "      <th>age</th>\n",
       "      <th>income</th>\n",
       "      <th>family_members</th>\n",
       "      <th>insurance_benefits</th>\n",
       "    </tr>\n",
       "  </thead>\n",
       "  <tbody>\n",
       "    <tr>\n",
       "      <th>count</th>\n",
       "      <td>5000.000000</td>\n",
       "      <td>5000.000000</td>\n",
       "      <td>5000.000000</td>\n",
       "      <td>5000.000000</td>\n",
       "      <td>5000.000000</td>\n",
       "    </tr>\n",
       "    <tr>\n",
       "      <th>mean</th>\n",
       "      <td>0.499000</td>\n",
       "      <td>30.952800</td>\n",
       "      <td>39916.360000</td>\n",
       "      <td>1.194200</td>\n",
       "      <td>0.148000</td>\n",
       "    </tr>\n",
       "    <tr>\n",
       "      <th>std</th>\n",
       "      <td>0.500049</td>\n",
       "      <td>8.440807</td>\n",
       "      <td>9900.083569</td>\n",
       "      <td>1.091387</td>\n",
       "      <td>0.463183</td>\n",
       "    </tr>\n",
       "    <tr>\n",
       "      <th>min</th>\n",
       "      <td>0.000000</td>\n",
       "      <td>18.000000</td>\n",
       "      <td>5300.000000</td>\n",
       "      <td>0.000000</td>\n",
       "      <td>0.000000</td>\n",
       "    </tr>\n",
       "    <tr>\n",
       "      <th>25%</th>\n",
       "      <td>0.000000</td>\n",
       "      <td>24.000000</td>\n",
       "      <td>33300.000000</td>\n",
       "      <td>0.000000</td>\n",
       "      <td>0.000000</td>\n",
       "    </tr>\n",
       "    <tr>\n",
       "      <th>50%</th>\n",
       "      <td>0.000000</td>\n",
       "      <td>30.000000</td>\n",
       "      <td>40200.000000</td>\n",
       "      <td>1.000000</td>\n",
       "      <td>0.000000</td>\n",
       "    </tr>\n",
       "    <tr>\n",
       "      <th>75%</th>\n",
       "      <td>1.000000</td>\n",
       "      <td>37.000000</td>\n",
       "      <td>46600.000000</td>\n",
       "      <td>2.000000</td>\n",
       "      <td>0.000000</td>\n",
       "    </tr>\n",
       "    <tr>\n",
       "      <th>max</th>\n",
       "      <td>1.000000</td>\n",
       "      <td>65.000000</td>\n",
       "      <td>79000.000000</td>\n",
       "      <td>6.000000</td>\n",
       "      <td>5.000000</td>\n",
       "    </tr>\n",
       "  </tbody>\n",
       "</table>\n",
       "</div>"
      ],
      "text/plain": [
       "            gender          age        income  family_members  \\\n",
       "count  5000.000000  5000.000000   5000.000000     5000.000000   \n",
       "mean      0.499000    30.952800  39916.360000        1.194200   \n",
       "std       0.500049     8.440807   9900.083569        1.091387   \n",
       "min       0.000000    18.000000   5300.000000        0.000000   \n",
       "25%       0.000000    24.000000  33300.000000        0.000000   \n",
       "50%       0.000000    30.000000  40200.000000        1.000000   \n",
       "75%       1.000000    37.000000  46600.000000        2.000000   \n",
       "max       1.000000    65.000000  79000.000000        6.000000   \n",
       "\n",
       "       insurance_benefits  \n",
       "count         5000.000000  \n",
       "mean             0.148000  \n",
       "std              0.463183  \n",
       "min              0.000000  \n",
       "25%              0.000000  \n",
       "50%              0.000000  \n",
       "75%              0.000000  \n",
       "max              5.000000  "
      ]
     },
     "execution_count": 10,
     "metadata": {},
     "output_type": "execute_result"
    }
   ],
   "source": [
    "# Mostrar estadísticas descriptivas del DataFrame\n",
    "df.describe()"
   ]
  },
  {
   "cell_type": "markdown",
   "metadata": {},
   "source": [
    "En la columna de Gender podemos ver que los datos no tienen ningun problema, al parecer el 50% son hombres y el otro 50% son mujeres.\n",
    "En la columna de Age podemos ver que la media es de 31 y el valor mas alto encontreado es de 65 por lo que es mucha diferencia y podria haber datos atipicos, igualmente que en la columna de salary en donde vemos que la media esta alejada del minimo y maximo.\n",
    "En la columna de family members y insurance benefits podemos observar que tambien la media esta alejada del valor maximo y podemos ver que esta muy alejado tambien del percentil 50 y 75 por lo que estos valores puede generar un sesgo."
   ]
  },
  {
   "cell_type": "markdown",
   "metadata": {},
   "source": [
    "## Análisis exploratorio de datos"
   ]
  },
  {
   "cell_type": "markdown",
   "metadata": {},
   "source": [
    "Vamos a comprobar rápidamente si existen determinados grupos de clientes observando el gráfico de pares."
   ]
  },
  {
   "cell_type": "code",
   "execution_count": 10,
   "metadata": {},
   "outputs": [
    {
     "data": {
      "image/png": "[encoded data removed]",
      "text/plain": [
       "<Figure size 1200x1200 with 30 Axes>"
      ]
     },
     "metadata": {},
     "output_type": "display_data"
    }
   ],
   "source": [
    "g = sns.pairplot(df, kind='hist')\n",
    "g.fig.set_size_inches(12, 12)"
   ]
  },
  {
   "cell_type": "markdown",
   "metadata": {},
   "source": [
    "De acuerdo, es un poco complicado detectar grupos obvios (clústeres) ya que es difícil combinar diversas variables simultáneamente (para analizar distribuciones multivariadas). Ahí es donde LA y ML pueden ser bastante útiles."
   ]
  },
  {
   "cell_type": "markdown",
   "metadata": {},
   "source": [
    "# Tarea 1. Clientes similares"
   ]
  },
  {
   "cell_type": "markdown",
   "metadata": {},
   "source": [
    "En el lenguaje de ML, es necesario desarrollar un procedimiento que devuelva los k vecinos más cercanos (objetos) para un objeto dado basándose en la distancia entre los objetos.\n",
    "Es posible que quieras revisar las siguientes lecciones (capítulo -> lección)- Distancia entre vectores -> Distancia euclidiana\n",
    "- Distancia entre vectores -> Distancia Manhattan\n",
    "\n",
    "Para resolver la tarea, podemos probar diferentes métricas de distancia."
   ]
  },
  {
   "cell_type": "markdown",
   "metadata": {},
   "source": [
    "Escribe una función que devuelva los k vecinos más cercanos para un $n^{th}$ objeto basándose en una métrica de distancia especificada. A la hora de realizar esta tarea no debe tenerse en cuenta el número de prestaciones de seguro recibidas.\n",
    "Puedes utilizar una implementación ya existente del algoritmo kNN de scikit-learn (consulta [el enlace](https://scikit-learn.org/stable/modules/generated/sklearn.neighbors.NearestNeighbors.html#sklearn.neighbors.NearestNeighbors)) o tu propia implementación.\n",
    "Pruébalo para cuatro combinaciones de dos casos- Escalado\n",
    "  - los datos no están escalados\n",
    "  - los datos se escalan con el escalador [MaxAbsScaler](https://scikit-learn.org/stable/modules/generated/sklearn.preprocessing.MaxAbsScaler.html)\n",
    "- Métricas de distancia\n",
    "  - Euclidiana\n",
    "  - Manhattan\n",
    "\n",
    "Responde a estas preguntas:- ¿El hecho de que los datos no estén escalados afecta al algoritmo kNN? Si es así, ¿cómo se manifiesta?- ¿Qué tan similares son los resultados al utilizar la métrica de distancia Manhattan (independientemente del escalado)?"
   ]
  },
  {
   "cell_type": "code",
   "execution_count": 15,
   "metadata": {},
   "outputs": [],
   "source": [
    "# Definimos las columnas que usaremos como características\n",
    "feature_names = ['gender', 'age', 'income', 'family_members']"
   ]
  },
  {
   "cell_type": "code",
   "execution_count": 16,
   "metadata": {},
   "outputs": [],
   "source": [
    "# Creamos una funcion para obtener los k vecinos más cercanos\n",
    "def get_knn(df, n, k, metric):\n",
    "    \n",
    "    \"\"\"\n",
    "    Devuelve los k vecinos más cercanos\n",
    "\n",
    "    :param df: DataFrame de pandas utilizado para encontrar objetos similares dentro del mismo lugar    :param n: Linea de cliente a la que buscaremos los vecinos mas cercanos   :param k: número de vecinos más cercanos a devolver\n",
    "    :param métrica: nombre de la métrica de distancia    \"\"\"\n",
    "\n",
    "    # Declaramos el metodo de NearestNeighbors y lo ajustamos a los datos\n",
    "    nbrs = NearestNeighbors(n_neighbors= k, metric=metric)\n",
    "    # Entrenamos el modelo con los datos de entrada\n",
    "    nbrs.fit(df[feature_names].values)\n",
    "    # Obtenemos los k vecinos más cercanos y sus distancias\n",
    "    nbrs_distances, nbrs_indices = nbrs.kneighbors([df.iloc[n][feature_names]], k, return_distance=True)\n",
    "    \n",
    "    # Convertimos los índices de los vecinos más cercanos a un DataFrame\n",
    "    df_res = pd.concat([\n",
    "        df.iloc[nbrs_indices[0]], \n",
    "        pd.DataFrame(nbrs_distances.T, index=nbrs_indices[0], columns=['distance'])\n",
    "        ], axis=1)\n",
    "    # Retornamos el DataFrame con los k vecinos más cercanos y sus distancias\n",
    "    return df_res"
   ]
  },
  {
   "cell_type": "markdown",
   "metadata": {},
   "source": [
    "Escalar datos."
   ]
  },
  {
   "cell_type": "code",
   "execution_count": 17,
   "metadata": {},
   "outputs": [
    {
     "name": "stderr",
     "output_type": "stream",
     "text": [
      "C:\\Users\\Usuario\\AppData\\Local\\Temp\\ipykernel_18340\\2504454614.py:8: FutureWarning: Setting an item of incompatible dtype is deprecated and will raise in a future error of pandas. Value '[0.63076923 0.70769231 0.44615385 ... 0.30769231 0.33846154 0.43076923]' has dtype incompatible with int64, please explicitly cast to a compatible dtype first.\n",
      "  df_scaled.loc[:, feature_names] = transformer_mas.transform(df[feature_names].to_numpy())\n",
      "C:\\Users\\Usuario\\AppData\\Local\\Temp\\ipykernel_18340\\2504454614.py:8: FutureWarning: Setting an item of incompatible dtype is deprecated and will raise in a future error of pandas. Value '[0.16666667 0.16666667 0.         ... 0.33333333 0.5        0.16666667]' has dtype incompatible with int64, please explicitly cast to a compatible dtype first.\n",
      "  df_scaled.loc[:, feature_names] = transformer_mas.transform(df[feature_names].to_numpy())\n"
     ]
    }
   ],
   "source": [
    "# Entrenamos el modelo para el escalado de los datos\n",
    "transformer_mas = sklearn.preprocessing.MaxAbsScaler().fit(df[feature_names].to_numpy())\n",
    "\n",
    "# Copiamos el DataFrame original para no modificarlo \n",
    "df_scaled = df.copy()\n",
    "\n",
    "# Transformamos los datos originales usando el transformador ajustado\n",
    "df_scaled.loc[:, feature_names] = transformer_mas.transform(df[feature_names].to_numpy())"
   ]
  },
  {
   "cell_type": "code",
   "execution_count": 18,
   "metadata": {},
   "outputs": [
    {
     "data": {
      "text/html": [
       "<div>\n",
       "<style scoped>\n",
       "    .dataframe tbody tr th:only-of-type {\n",
       "        vertical-align: middle;\n",
       "    }\n",
       "\n",
       "    .dataframe tbody tr th {\n",
       "        vertical-align: top;\n",
       "    }\n",
       "\n",
       "    .dataframe thead th {\n",
       "        text-align: right;\n",
       "    }\n",
       "</style>\n",
       "<table border=\"1\" class=\"dataframe\">\n",
       "  <thead>\n",
       "    <tr style=\"text-align: right;\">\n",
       "      <th></th>\n",
       "      <th>gender</th>\n",
       "      <th>age</th>\n",
       "      <th>income</th>\n",
       "      <th>family_members</th>\n",
       "      <th>insurance_benefits</th>\n",
       "    </tr>\n",
       "  </thead>\n",
       "  <tbody>\n",
       "    <tr>\n",
       "      <th>875</th>\n",
       "      <td>1</td>\n",
       "      <td>0.523077</td>\n",
       "      <td>0.248101</td>\n",
       "      <td>0.500000</td>\n",
       "      <td>0</td>\n",
       "    </tr>\n",
       "    <tr>\n",
       "      <th>472</th>\n",
       "      <td>1</td>\n",
       "      <td>0.584615</td>\n",
       "      <td>0.463291</td>\n",
       "      <td>0.000000</td>\n",
       "      <td>0</td>\n",
       "    </tr>\n",
       "    <tr>\n",
       "      <th>3955</th>\n",
       "      <td>0</td>\n",
       "      <td>0.661538</td>\n",
       "      <td>0.555696</td>\n",
       "      <td>0.000000</td>\n",
       "      <td>1</td>\n",
       "    </tr>\n",
       "    <tr>\n",
       "      <th>4226</th>\n",
       "      <td>1</td>\n",
       "      <td>0.353846</td>\n",
       "      <td>0.477215</td>\n",
       "      <td>0.333333</td>\n",
       "      <td>0</td>\n",
       "    </tr>\n",
       "    <tr>\n",
       "      <th>1457</th>\n",
       "      <td>0</td>\n",
       "      <td>0.276923</td>\n",
       "      <td>0.488608</td>\n",
       "      <td>0.000000</td>\n",
       "      <td>0</td>\n",
       "    </tr>\n",
       "  </tbody>\n",
       "</table>\n",
       "</div>"
      ],
      "text/plain": [
       "      gender       age    income  family_members  insurance_benefits\n",
       "875        1  0.523077  0.248101        0.500000                   0\n",
       "472        1  0.584615  0.463291        0.000000                   0\n",
       "3955       0  0.661538  0.555696        0.000000                   1\n",
       "4226       1  0.353846  0.477215        0.333333                   0\n",
       "1457       0  0.276923  0.488608        0.000000                   0"
      ]
     },
     "execution_count": 18,
     "metadata": {},
     "output_type": "execute_result"
    }
   ],
   "source": [
    "# Verificamos que el escalado se haya realizado correctamente\n",
    "df_scaled.sample(5)"
   ]
  },
  {
   "cell_type": "markdown",
   "metadata": {},
   "source": [
    "Ahora, vamos a obtener registros similares para un determinado cliente y para cada combinación"
   ]
  },
  {
   "cell_type": "code",
   "execution_count": 23,
   "metadata": {},
   "outputs": [
    {
     "data": {
      "text/html": [
       "<div>\n",
       "<style scoped>\n",
       "    .dataframe tbody tr th:only-of-type {\n",
       "        vertical-align: middle;\n",
       "    }\n",
       "\n",
       "    .dataframe tbody tr th {\n",
       "        vertical-align: top;\n",
       "    }\n",
       "\n",
       "    .dataframe thead th {\n",
       "        text-align: right;\n",
       "    }\n",
       "</style>\n",
       "<table border=\"1\" class=\"dataframe\">\n",
       "  <thead>\n",
       "    <tr style=\"text-align: right;\">\n",
       "      <th></th>\n",
       "      <th>gender</th>\n",
       "      <th>age</th>\n",
       "      <th>income</th>\n",
       "      <th>family_members</th>\n",
       "      <th>distance</th>\n",
       "    </tr>\n",
       "  </thead>\n",
       "  <tbody>\n",
       "    <tr>\n",
       "      <th>2</th>\n",
       "      <td>0</td>\n",
       "      <td>0.446154</td>\n",
       "      <td>0.265823</td>\n",
       "      <td>0.0</td>\n",
       "      <td>0.000000</td>\n",
       "    </tr>\n",
       "    <tr>\n",
       "      <th>509</th>\n",
       "      <td>0</td>\n",
       "      <td>0.446154</td>\n",
       "      <td>0.255696</td>\n",
       "      <td>0.0</td>\n",
       "      <td>0.010127</td>\n",
       "    </tr>\n",
       "    <tr>\n",
       "      <th>224</th>\n",
       "      <td>0</td>\n",
       "      <td>0.446154</td>\n",
       "      <td>0.277215</td>\n",
       "      <td>0.0</td>\n",
       "      <td>0.011392</td>\n",
       "    </tr>\n",
       "    <tr>\n",
       "      <th>2031</th>\n",
       "      <td>0</td>\n",
       "      <td>0.461538</td>\n",
       "      <td>0.264557</td>\n",
       "      <td>0.0</td>\n",
       "      <td>0.016650</td>\n",
       "    </tr>\n",
       "    <tr>\n",
       "      <th>648</th>\n",
       "      <td>0</td>\n",
       "      <td>0.461538</td>\n",
       "      <td>0.289873</td>\n",
       "      <td>0.0</td>\n",
       "      <td>0.039435</td>\n",
       "    </tr>\n",
       "    <tr>\n",
       "      <th>3156</th>\n",
       "      <td>0</td>\n",
       "      <td>0.446154</td>\n",
       "      <td>0.308861</td>\n",
       "      <td>0.0</td>\n",
       "      <td>0.043038</td>\n",
       "    </tr>\n",
       "    <tr>\n",
       "      <th>4905</th>\n",
       "      <td>0</td>\n",
       "      <td>0.492308</td>\n",
       "      <td>0.259494</td>\n",
       "      <td>0.0</td>\n",
       "      <td>0.052483</td>\n",
       "    </tr>\n",
       "    <tr>\n",
       "      <th>4203</th>\n",
       "      <td>0</td>\n",
       "      <td>0.446154</td>\n",
       "      <td>0.318987</td>\n",
       "      <td>0.0</td>\n",
       "      <td>0.053165</td>\n",
       "    </tr>\n",
       "  </tbody>\n",
       "</table>\n",
       "</div>"
      ],
      "text/plain": [
       "      gender       age    income  family_members  distance\n",
       "2          0  0.446154  0.265823             0.0  0.000000\n",
       "509        0  0.446154  0.255696             0.0  0.010127\n",
       "224        0  0.446154  0.277215             0.0  0.011392\n",
       "2031       0  0.461538  0.264557             0.0  0.016650\n",
       "648        0  0.461538  0.289873             0.0  0.039435\n",
       "3156       0  0.446154  0.308861             0.0  0.043038\n",
       "4905       0  0.492308  0.259494             0.0  0.052483\n",
       "4203       0  0.446154  0.318987             0.0  0.053165"
      ]
     },
     "execution_count": 23,
     "metadata": {},
     "output_type": "execute_result"
    }
   ],
   "source": [
    "# Obtenemos 8 vecinos más cercanos para el cliente 2 usando la métrica manhattan y con los datos escalados\n",
    "manhattan_esc = get_knn(df_scaled[feature_names], 2, 8, 'manhattan')\n",
    "manhattan_esc"
   ]
  },
  {
   "cell_type": "code",
   "execution_count": 24,
   "metadata": {},
   "outputs": [
    {
     "data": {
      "text/html": [
       "<div>\n",
       "<style scoped>\n",
       "    .dataframe tbody tr th:only-of-type {\n",
       "        vertical-align: middle;\n",
       "    }\n",
       "\n",
       "    .dataframe tbody tr th {\n",
       "        vertical-align: top;\n",
       "    }\n",
       "\n",
       "    .dataframe thead th {\n",
       "        text-align: right;\n",
       "    }\n",
       "</style>\n",
       "<table border=\"1\" class=\"dataframe\">\n",
       "  <thead>\n",
       "    <tr style=\"text-align: right;\">\n",
       "      <th></th>\n",
       "      <th>gender</th>\n",
       "      <th>age</th>\n",
       "      <th>income</th>\n",
       "      <th>family_members</th>\n",
       "      <th>distance</th>\n",
       "    </tr>\n",
       "  </thead>\n",
       "  <tbody>\n",
       "    <tr>\n",
       "      <th>2</th>\n",
       "      <td>0</td>\n",
       "      <td>0.446154</td>\n",
       "      <td>0.265823</td>\n",
       "      <td>0.0</td>\n",
       "      <td>0.000000</td>\n",
       "    </tr>\n",
       "    <tr>\n",
       "      <th>509</th>\n",
       "      <td>0</td>\n",
       "      <td>0.446154</td>\n",
       "      <td>0.255696</td>\n",
       "      <td>0.0</td>\n",
       "      <td>0.010127</td>\n",
       "    </tr>\n",
       "    <tr>\n",
       "      <th>224</th>\n",
       "      <td>0</td>\n",
       "      <td>0.446154</td>\n",
       "      <td>0.277215</td>\n",
       "      <td>0.0</td>\n",
       "      <td>0.011392</td>\n",
       "    </tr>\n",
       "    <tr>\n",
       "      <th>2031</th>\n",
       "      <td>0</td>\n",
       "      <td>0.461538</td>\n",
       "      <td>0.264557</td>\n",
       "      <td>0.0</td>\n",
       "      <td>0.015437</td>\n",
       "    </tr>\n",
       "    <tr>\n",
       "      <th>648</th>\n",
       "      <td>0</td>\n",
       "      <td>0.461538</td>\n",
       "      <td>0.289873</td>\n",
       "      <td>0.0</td>\n",
       "      <td>0.028550</td>\n",
       "    </tr>\n",
       "    <tr>\n",
       "      <th>3156</th>\n",
       "      <td>0</td>\n",
       "      <td>0.446154</td>\n",
       "      <td>0.308861</td>\n",
       "      <td>0.0</td>\n",
       "      <td>0.043038</td>\n",
       "    </tr>\n",
       "    <tr>\n",
       "      <th>2838</th>\n",
       "      <td>0</td>\n",
       "      <td>0.415385</td>\n",
       "      <td>0.235443</td>\n",
       "      <td>0.0</td>\n",
       "      <td>0.043240</td>\n",
       "    </tr>\n",
       "    <tr>\n",
       "      <th>4905</th>\n",
       "      <td>0</td>\n",
       "      <td>0.492308</td>\n",
       "      <td>0.259494</td>\n",
       "      <td>0.0</td>\n",
       "      <td>0.046586</td>\n",
       "    </tr>\n",
       "  </tbody>\n",
       "</table>\n",
       "</div>"
      ],
      "text/plain": [
       "      gender       age    income  family_members  distance\n",
       "2          0  0.446154  0.265823             0.0  0.000000\n",
       "509        0  0.446154  0.255696             0.0  0.010127\n",
       "224        0  0.446154  0.277215             0.0  0.011392\n",
       "2031       0  0.461538  0.264557             0.0  0.015437\n",
       "648        0  0.461538  0.289873             0.0  0.028550\n",
       "3156       0  0.446154  0.308861             0.0  0.043038\n",
       "2838       0  0.415385  0.235443             0.0  0.043240\n",
       "4905       0  0.492308  0.259494             0.0  0.046586"
      ]
     },
     "execution_count": 24,
     "metadata": {},
     "output_type": "execute_result"
    }
   ],
   "source": [
    "# Obtenemos 8 vecinos más cercanos para el cliente 2 usando la métrica euclidiana y con los datos escalados\n",
    "euclidiana_esc = get_knn(df_scaled[feature_names], 2, 8, 'euclidean')\n",
    "euclidiana_esc "
   ]
  },
  {
   "cell_type": "code",
   "execution_count": 25,
   "metadata": {},
   "outputs": [
    {
     "data": {
      "text/html": [
       "<div>\n",
       "<style scoped>\n",
       "    .dataframe tbody tr th:only-of-type {\n",
       "        vertical-align: middle;\n",
       "    }\n",
       "\n",
       "    .dataframe tbody tr th {\n",
       "        vertical-align: top;\n",
       "    }\n",
       "\n",
       "    .dataframe thead th {\n",
       "        text-align: right;\n",
       "    }\n",
       "</style>\n",
       "<table border=\"1\" class=\"dataframe\">\n",
       "  <thead>\n",
       "    <tr style=\"text-align: right;\">\n",
       "      <th></th>\n",
       "      <th>gender</th>\n",
       "      <th>age</th>\n",
       "      <th>income</th>\n",
       "      <th>family_members</th>\n",
       "      <th>distance</th>\n",
       "    </tr>\n",
       "  </thead>\n",
       "  <tbody>\n",
       "    <tr>\n",
       "      <th>2</th>\n",
       "      <td>0</td>\n",
       "      <td>29</td>\n",
       "      <td>21000.0</td>\n",
       "      <td>0</td>\n",
       "      <td>0.0</td>\n",
       "    </tr>\n",
       "    <tr>\n",
       "      <th>4544</th>\n",
       "      <td>1</td>\n",
       "      <td>31</td>\n",
       "      <td>21000.0</td>\n",
       "      <td>1</td>\n",
       "      <td>4.0</td>\n",
       "    </tr>\n",
       "    <tr>\n",
       "      <th>2031</th>\n",
       "      <td>0</td>\n",
       "      <td>30</td>\n",
       "      <td>20900.0</td>\n",
       "      <td>0</td>\n",
       "      <td>101.0</td>\n",
       "    </tr>\n",
       "    <tr>\n",
       "      <th>1741</th>\n",
       "      <td>1</td>\n",
       "      <td>28</td>\n",
       "      <td>21100.0</td>\n",
       "      <td>0</td>\n",
       "      <td>102.0</td>\n",
       "    </tr>\n",
       "    <tr>\n",
       "      <th>4805</th>\n",
       "      <td>0</td>\n",
       "      <td>28</td>\n",
       "      <td>21100.0</td>\n",
       "      <td>2</td>\n",
       "      <td>103.0</td>\n",
       "    </tr>\n",
       "    <tr>\n",
       "      <th>2752</th>\n",
       "      <td>1</td>\n",
       "      <td>27</td>\n",
       "      <td>21100.0</td>\n",
       "      <td>1</td>\n",
       "      <td>104.0</td>\n",
       "    </tr>\n",
       "    <tr>\n",
       "      <th>3848</th>\n",
       "      <td>1</td>\n",
       "      <td>35</td>\n",
       "      <td>21100.0</td>\n",
       "      <td>2</td>\n",
       "      <td>109.0</td>\n",
       "    </tr>\n",
       "    <tr>\n",
       "      <th>4049</th>\n",
       "      <td>0</td>\n",
       "      <td>39</td>\n",
       "      <td>20900.0</td>\n",
       "      <td>1</td>\n",
       "      <td>111.0</td>\n",
       "    </tr>\n",
       "  </tbody>\n",
       "</table>\n",
       "</div>"
      ],
      "text/plain": [
       "      gender  age   income  family_members  distance\n",
       "2          0   29  21000.0               0       0.0\n",
       "4544       1   31  21000.0               1       4.0\n",
       "2031       0   30  20900.0               0     101.0\n",
       "1741       1   28  21100.0               0     102.0\n",
       "4805       0   28  21100.0               2     103.0\n",
       "2752       1   27  21100.0               1     104.0\n",
       "3848       1   35  21100.0               2     109.0\n",
       "4049       0   39  20900.0               1     111.0"
      ]
     },
     "execution_count": 25,
     "metadata": {},
     "output_type": "execute_result"
    }
   ],
   "source": [
    "# Obtenemos 8 vecinos más cercanos para el cliente 2 usando la métrica manhattan y con los datos originales\n",
    "manhattan_noesc = get_knn(df[feature_names], 2, 8, 'manhattan')\n",
    "manhattan_noesc"
   ]
  },
  {
   "cell_type": "code",
   "execution_count": 26,
   "metadata": {},
   "outputs": [
    {
     "data": {
      "text/html": [
       "<div>\n",
       "<style scoped>\n",
       "    .dataframe tbody tr th:only-of-type {\n",
       "        vertical-align: middle;\n",
       "    }\n",
       "\n",
       "    .dataframe tbody tr th {\n",
       "        vertical-align: top;\n",
       "    }\n",
       "\n",
       "    .dataframe thead th {\n",
       "        text-align: right;\n",
       "    }\n",
       "</style>\n",
       "<table border=\"1\" class=\"dataframe\">\n",
       "  <thead>\n",
       "    <tr style=\"text-align: right;\">\n",
       "      <th></th>\n",
       "      <th>gender</th>\n",
       "      <th>age</th>\n",
       "      <th>income</th>\n",
       "      <th>family_members</th>\n",
       "      <th>distance</th>\n",
       "    </tr>\n",
       "  </thead>\n",
       "  <tbody>\n",
       "    <tr>\n",
       "      <th>2</th>\n",
       "      <td>0</td>\n",
       "      <td>29</td>\n",
       "      <td>21000.0</td>\n",
       "      <td>0</td>\n",
       "      <td>0.000000</td>\n",
       "    </tr>\n",
       "    <tr>\n",
       "      <th>4544</th>\n",
       "      <td>1</td>\n",
       "      <td>31</td>\n",
       "      <td>21000.0</td>\n",
       "      <td>1</td>\n",
       "      <td>2.449490</td>\n",
       "    </tr>\n",
       "    <tr>\n",
       "      <th>2031</th>\n",
       "      <td>0</td>\n",
       "      <td>30</td>\n",
       "      <td>20900.0</td>\n",
       "      <td>0</td>\n",
       "      <td>100.005000</td>\n",
       "    </tr>\n",
       "    <tr>\n",
       "      <th>1741</th>\n",
       "      <td>1</td>\n",
       "      <td>28</td>\n",
       "      <td>21100.0</td>\n",
       "      <td>0</td>\n",
       "      <td>100.010000</td>\n",
       "    </tr>\n",
       "    <tr>\n",
       "      <th>4805</th>\n",
       "      <td>0</td>\n",
       "      <td>28</td>\n",
       "      <td>21100.0</td>\n",
       "      <td>2</td>\n",
       "      <td>100.024997</td>\n",
       "    </tr>\n",
       "    <tr>\n",
       "      <th>2752</th>\n",
       "      <td>1</td>\n",
       "      <td>27</td>\n",
       "      <td>21100.0</td>\n",
       "      <td>1</td>\n",
       "      <td>100.029996</td>\n",
       "    </tr>\n",
       "    <tr>\n",
       "      <th>3848</th>\n",
       "      <td>1</td>\n",
       "      <td>35</td>\n",
       "      <td>21100.0</td>\n",
       "      <td>2</td>\n",
       "      <td>100.204790</td>\n",
       "    </tr>\n",
       "    <tr>\n",
       "      <th>1771</th>\n",
       "      <td>1</td>\n",
       "      <td>38</td>\n",
       "      <td>20900.0</td>\n",
       "      <td>2</td>\n",
       "      <td>100.429079</td>\n",
       "    </tr>\n",
       "  </tbody>\n",
       "</table>\n",
       "</div>"
      ],
      "text/plain": [
       "      gender  age   income  family_members    distance\n",
       "2          0   29  21000.0               0    0.000000\n",
       "4544       1   31  21000.0               1    2.449490\n",
       "2031       0   30  20900.0               0  100.005000\n",
       "1741       1   28  21100.0               0  100.010000\n",
       "4805       0   28  21100.0               2  100.024997\n",
       "2752       1   27  21100.0               1  100.029996\n",
       "3848       1   35  21100.0               2  100.204790\n",
       "1771       1   38  20900.0               2  100.429079"
      ]
     },
     "execution_count": 26,
     "metadata": {},
     "output_type": "execute_result"
    }
   ],
   "source": [
    "# Obtenemos 8 vecinos más cercanos para el cliente 2 usando la métrica euclidiana y con los datos originales\n",
    "euclidiana_noesc = get_knn(df[feature_names], 2, 8, 'euclidean')\n",
    "euclidiana_noesc "
   ]
  },
  {
   "cell_type": "markdown",
   "metadata": {},
   "source": [
    "**¿El hecho de que los datos no estén escalados afecta al algoritmo kNN? Si es así, ¿cómo se manifiesta?** \n",
    "\n",
    "Si si afecta el algoritmo ya que al procesar los datos el algoritmo sin los datos escalados el algoritmo hace calculos con una datos donde la diferencia entre cada uno de ellos le impacta al buscar los valores mas cercanos, y en el resultado con los datos escalados podemos ver que la distancia entre cada datos esta en una escala mas pequeña haciendolo mas preciso."
   ]
  },
  {
   "cell_type": "markdown",
   "metadata": {},
   "source": [
    "**¿Qué tan similares son los resultados al utilizar la métrica de distancia Manhattan (independientemente del escalado)?** \n",
    "\n",
    "Son muy similares en las primeros vecinos encontrados pero apartir del vecino 6/7 empieza a encontrar otra fila mas cercana y esto lo podemos saber por la formula que usa con los vectores para encontrar la distancia."
   ]
  },
  {
   "cell_type": "markdown",
   "metadata": {},
   "source": [
    "# Tarea 2. ¿Es probable que el cliente reciba una prestación del seguro?"
   ]
  },
  {
   "cell_type": "markdown",
   "metadata": {},
   "source": [
    "En términos de machine learning podemos considerarlo como una tarea de clasificación binaria."
   ]
  },
  {
   "cell_type": "markdown",
   "metadata": {},
   "source": [
    "Con el valor de `insurance_benefits` superior a cero como objetivo, evalúa si el enfoque de clasificación kNN puede funcionar mejor que el modelo dummy.\n",
    "Instrucciones:\n",
    "- Construye un clasificador basado en KNN y mide su calidad con la métrica F1 para k=1...10 tanto para los datos originales como para los escalados. Sería interesante observar cómo k puede influir en la métrica de evaluación y si el escalado de los datos provoca alguna diferencia. Puedes utilizar una implementación ya existente del algoritmo de clasificación kNN de scikit-learn (consulta [el enlace](https://scikit-learn.org/stable/modules/generated/sklearn.neighbors.KNeighborsClassifier.html)) o tu propia implementación.- Construye un modelo dummy que, en este caso, es simplemente un modelo aleatorio. Debería devolver \"1\" con cierta probabilidad. Probemos el modelo con cuatro valores de probabilidad: 0, la probabilidad de pagar cualquier prestación del seguro, 0.5, 1.\n",
    "La probabilidad de pagar cualquier prestación del seguro puede definirse como\n",
    "$$\n",
    "P\\{\\text{prestación de seguro recibida}\\}=\\frac{\\text{número de clientes que han recibido alguna prestación de seguro}}{\\text{número total de clientes}}.\n",
    "$$\n",
    "\n",
    "Divide todos los datos correspondientes a las etapas de entrenamiento/prueba respetando la proporción 70:30."
   ]
  },
  {
   "cell_type": "code",
   "execution_count": 27,
   "metadata": {},
   "outputs": [],
   "source": [
    "# Creamos una nueva columna para clasificar si el cliente ha recibido beneficios de seguro o no\n",
    "df['insurance_benefits_received'] = np.where(df['insurance_benefits']>=1,1,0)"
   ]
  },
  {
   "cell_type": "code",
   "execution_count": 28,
   "metadata": {},
   "outputs": [
    {
     "data": {
      "text/plain": [
       "Text(0, 0.5, 'Numero de personas')"
      ]
     },
     "execution_count": 28,
     "metadata": {},
     "output_type": "execute_result"
    },
    {
     "data": {
      "image/png": "[encoded data removed]",
      "text/plain": [
       "<Figure size 600x400 with 1 Axes>"
      ]
     },
     "metadata": {},
     "output_type": "display_data"
    }
   ],
   "source": [
    "# comprueba el desequilibrio de clases con value_counts()\n",
    "plt.figure(figsize=(6, 4))\n",
    "sns.countplot(x='insurance_benefits_received' , data=df)\n",
    "plt.title('Distribucion de Beneficiados')\n",
    "plt.xlabel('Beneficiado (0 = No, 1 = Si)')\n",
    "plt.ylabel('Numero de personas')"
   ]
  },
  {
   "cell_type": "code",
   "execution_count": 29,
   "metadata": {},
   "outputs": [
    {
     "data": {
      "text/plain": [
       "insurance_benefits_received\n",
       "0    4436\n",
       "1     564\n",
       "Name: insurance_benefits_received, dtype: int64"
      ]
     },
     "execution_count": 29,
     "metadata": {},
     "output_type": "execute_result"
    }
   ],
   "source": [
    "# Verificamos el balance de clases\n",
    "df.groupby('insurance_benefits_received')['insurance_benefits_received'].count()"
   ]
  },
  {
   "cell_type": "code",
   "execution_count": 30,
   "metadata": {},
   "outputs": [],
   "source": [
    "# Creamos una funcion para evaluar el clasificador\n",
    "def eval_classifier(y_true, y_pred):\n",
    "    \n",
    "    f1_score = sklearn.metrics.f1_score(y_true, y_pred)\n",
    "    print(f'F1: {f1_score:.2f}')\n",
    "    \n",
    "# si tienes algún problema con la siguiente línea, reinicia el kernel y ejecuta el cuaderno de nuevo    \n",
    "    cm = sklearn.metrics.confusion_matrix(y_true, y_pred, normalize='all')\n",
    "    print('Matriz de confusión')\n",
    "    print(cm)"
   ]
  },
  {
   "cell_type": "code",
   "execution_count": 31,
   "metadata": {},
   "outputs": [],
   "source": [
    "# Creamos una funcion con un modelo dummy para predecir la clase de un cliente\n",
    "def rnd_model_predict(P, size, seed=42):\n",
    "\n",
    "    rng = np.random.default_rng(seed=seed)\n",
    "    return rng.binomial(n=1, p=P, size=size)"
   ]
  },
  {
   "cell_type": "code",
   "execution_count": 32,
   "metadata": {},
   "outputs": [],
   "source": [
    "# Dividir caracteristicas y objetivos en datos escalados y no escalados\n",
    "obj = df['insurance_benefits_received']\n",
    "car = df.drop(['insurance_benefits_received', 'insurance_benefits'], axis=1)\n",
    "car_scaled = df_scaled.drop('insurance_benefits', axis=1)\n",
    "\n",
    "car_train, car_test, obj_train, obj_test = train_test_split(car, obj, test_size=0.3, random_state=10)\n",
    "car_train_scaled, car_test_scaled, obj_train_scaled, obj_test_scaled = train_test_split(car_scaled, obj, test_size=0.3, random_state=10)\n"
   ]
  },
  {
   "cell_type": "code",
   "execution_count": 33,
   "metadata": {},
   "outputs": [
    {
     "name": "stdout",
     "output_type": "stream",
     "text": [
      "La probabilidad: 0.00\n",
      "F1: 0.00\n",
      "Matriz de confusión\n",
      "[[0.8872 0.    ]\n",
      " [0.1128 0.    ]]\n",
      "\n",
      "La probabilidad: 0.11\n",
      "F1: 0.12\n",
      "Matriz de confusión\n",
      "[[0.7914 0.0958]\n",
      " [0.0994 0.0134]]\n",
      "\n",
      "La probabilidad: 0.50\n",
      "F1: 0.20\n",
      "Matriz de confusión\n",
      "[[0.456  0.4312]\n",
      " [0.053  0.0598]]\n",
      "\n",
      "La probabilidad: 1.00\n",
      "F1: 0.20\n",
      "Matriz de confusión\n",
      "[[0.     0.8872]\n",
      " [0.     0.1128]]\n",
      "\n"
     ]
    }
   ],
   "source": [
    "# Ciclo for para probar modelo dummy con diferentes probabilidades\n",
    "for P in [0, df['insurance_benefits_received'].sum() / len(df), 0.5, 1]:\n",
    "\n",
    "    print(f'La probabilidad: {P:.2f}')\n",
    "    y_pred_rnd = rnd_model_predict(P, len(df['insurance_benefits_received']))\n",
    "        \n",
    "    eval_classifier(df['insurance_benefits_received'], y_pred_rnd)\n",
    "    \n",
    "    print()"
   ]
  },
  {
   "cell_type": "code",
   "execution_count": null,
   "metadata": {},
   "outputs": [
    {
     "name": "stdout",
     "output_type": "stream",
     "text": [
      "Resultados de KNeighborClassifier con n_neighbors = 1\n",
      "F1: 0.58\n",
      "Matriz de confusión\n",
      "[[0.86866667 0.022     ]\n",
      " [0.056      0.05333333]]\n",
      "\n",
      "Resultados de KNeighborClassifier con n_neighbors = 2\n",
      "F1: 0.34\n",
      "Matriz de confusión\n",
      "[[0.88666667 0.004     ]\n",
      " [0.086      0.02333333]]\n",
      "\n",
      "Resultados de KNeighborClassifier con n_neighbors = 3\n",
      "F1: 0.37\n",
      "Matriz de confusión\n",
      "[[0.88066667 0.01      ]\n",
      " [0.082      0.02733333]]\n",
      "\n",
      "Resultados de KNeighborClassifier con n_neighbors = 4\n",
      "F1: 0.12\n",
      "Matriz de confusión\n",
      "[[0.888      0.00266667]\n",
      " [0.102      0.00733333]]\n",
      "\n",
      "Resultados de KNeighborClassifier con n_neighbors = 5\n",
      "F1: 0.14\n",
      "Matriz de confusión\n",
      "[[0.88533333 0.00533333]\n",
      " [0.10066667 0.00866667]]\n",
      "\n",
      "Resultados de KNeighborClassifier con n_neighbors = 6\n",
      "F1: 0.11\n",
      "Matriz de confusión\n",
      "[[0.88866667 0.002     ]\n",
      " [0.10266667 0.00666667]]\n",
      "\n",
      "Resultados de KNeighborClassifier con n_neighbors = 7\n",
      "F1: 0.11\n",
      "Matriz de confusión\n",
      "[[0.88733333 0.00333333]\n",
      " [0.10266667 0.00666667]]\n",
      "\n",
      "Resultados de KNeighborClassifier con n_neighbors = 8\n",
      "F1: 0.06\n",
      "Matriz de confusión\n",
      "[[0.88866667 0.002     ]\n",
      " [0.106      0.00333333]]\n",
      "\n",
      "Resultados de KNeighborClassifier con n_neighbors = 9\n",
      "F1: 0.06\n",
      "Matriz de confusión\n",
      "[[0.888      0.00266667]\n",
      " [0.106      0.00333333]]\n",
      "\n",
      "Resultados de KNeighborClassifier con n_neighbors = 10\n",
      "F1: 0.05\n",
      "Matriz de confusión\n",
      "[[0.88866667 0.002     ]\n",
      " [0.10666667 0.00266667]]\n",
      "\n"
     ]
    }
   ],
   "source": [
    "# Hacemos un ciclo for para probar el modelo KNeighborsClassifier con diferentes valores de n_neighbors y lo evaluamos con la función eval_classifier\n",
    "for i in range(1,11):\n",
    "    print('Resultados de KNeighborClassifier con n_neighbors =', i)\n",
    "    model = KNeighborsClassifier(n_neighbors=i)\n",
    "    model.fit(car_train, obj_train)\n",
    "    predic = model.predict(car_test)\n",
    "    eval_classifier(obj_test, predic)\n",
    "    print()"
   ]
  },
  {
   "cell_type": "markdown",
   "metadata": {},
   "source": [
    "En el entranamiento del modelo sin escalar podemos observar que con n_neighbors = 1 es el que mejor resultados tiene, mientras va aumentando el numero de vecino va empeorando la metrica F1 al punto de que un modelo dummy con propabilidad de .5 y 1 tiene mejores resultados que uno entrenado."
   ]
  },
  {
   "cell_type": "code",
   "execution_count": 34,
   "metadata": {},
   "outputs": [
    {
     "name": "stdout",
     "output_type": "stream",
     "text": [
      "Resultados de KNeighborClassifier con n_neighbors = 1\n",
      "F1: 0.94\n",
      "Matriz de confusión\n",
      "[[0.88666667 0.004     ]\n",
      " [0.00866667 0.10066667]]\n",
      "\n",
      "Resultados de KNeighborClassifier con n_neighbors = 2\n",
      "F1: 0.90\n",
      "Matriz de confusión\n",
      "[[0.89066667 0.        ]\n",
      " [0.01933333 0.09      ]]\n",
      "\n",
      "Resultados de KNeighborClassifier con n_neighbors = 3\n",
      "F1: 0.91\n",
      "Matriz de confusión\n",
      "[[0.88466667 0.006     ]\n",
      " [0.014      0.09533333]]\n",
      "\n",
      "Resultados de KNeighborClassifier con n_neighbors = 4\n",
      "F1: 0.90\n",
      "Matriz de confusión\n",
      "[[0.88933333 0.00133333]\n",
      " [0.01933333 0.09      ]]\n",
      "\n",
      "Resultados de KNeighborClassifier con n_neighbors = 5\n",
      "F1: 0.90\n",
      "Matriz de confusión\n",
      "[[0.88733333 0.00333333]\n",
      " [0.01666667 0.09266667]]\n",
      "\n",
      "Resultados de KNeighborClassifier con n_neighbors = 6\n",
      "F1: 0.89\n",
      "Matriz de confusión\n",
      "[[8.90000000e-01 6.66666667e-04]\n",
      " [2.13333333e-02 8.80000000e-02]]\n",
      "\n",
      "Resultados de KNeighborClassifier con n_neighbors = 7\n",
      "F1: 0.91\n",
      "Matriz de confusión\n",
      "[[0.888      0.00266667]\n",
      " [0.016      0.09333333]]\n",
      "\n",
      "Resultados de KNeighborClassifier con n_neighbors = 8\n",
      "F1: 0.88\n",
      "Matriz de confusión\n",
      "[[0.89066667 0.        ]\n",
      " [0.02266667 0.08666667]]\n",
      "\n",
      "Resultados de KNeighborClassifier con n_neighbors = 9\n",
      "F1: 0.90\n",
      "Matriz de confusión\n",
      "[[0.888      0.00266667]\n",
      " [0.01733333 0.092     ]]\n",
      "\n",
      "Resultados de KNeighborClassifier con n_neighbors = 10\n",
      "F1: 0.87\n",
      "Matriz de confusión\n",
      "[[8.90000000e-01 6.66666667e-04]\n",
      " [2.40000000e-02 8.53333333e-02]]\n",
      "\n"
     ]
    }
   ],
   "source": [
    "# Hacemos un ciclo for para probar el modelo KNeighborsClassifier con diferentes valores de n_neighbors y lo evaluamos con la función eval_classifier con datos escalados\n",
    "for i in range(1,11):\n",
    "    print('Resultados de KNeighborClassifier con n_neighbors =', i)\n",
    "    model = KNeighborsClassifier(n_neighbors=i)\n",
    "    model.fit(car_train_scaled, obj_train_scaled)\n",
    "    predic = model.predict(car_test_scaled)\n",
    "    eval_classifier(obj_test_scaled, predic)\n",
    "    print()"
   ]
  },
  {
   "cell_type": "markdown",
   "metadata": {},
   "source": [
    "Podemos observar que con el escalado de datos el entrenamiento de mejoro mucho la metrica F1 tambien podemos observar que mientras va aumentando el numero de vecinos si disminuye la metrica pero muy poco podemos deducir que este cambio esta siendo afectado por el escalado de datos que ayuda a al modelo a analizar mejor a los vecinos mas cercanos"
   ]
  },
  {
   "cell_type": "markdown",
   "metadata": {},
   "source": [
    "# Tarea 3. Regresión (con regresión lineal)"
   ]
  },
  {
   "cell_type": "markdown",
   "metadata": {},
   "source": [
    "Con `insurance_benefits` como objetivo, evalúa cuál sería la RECM de un modelo de regresión lineal."
   ]
  },
  {
   "cell_type": "markdown",
   "metadata": {},
   "source": [
    "Construye tu propia implementación de regresión lineal. Para ello, recuerda cómo está formulada la solución de la tarea de regresión lineal en términos de LA. Comprueba la RECM tanto para los datos originales como para los escalados. ¿Puedes ver alguna diferencia en la RECM con respecto a estos dos casos?\n",
    "\n",
    "Denotemos- $X$: matriz de características; cada fila es un caso, cada columna es una característica, la primera columna está formada por unidades- $y$ — objetivo (un vector)- $\\hat{y}$ — objetivo estimado (un vector)- $w$ — vector de pesos\n",
    "La tarea de regresión lineal en el lenguaje de las matrices puede formularse así:\n",
    "$$\n",
    "y = Xw\n",
    "$$\n",
    "\n",
    "El objetivo de entrenamiento es entonces encontrar esa $w$ w que minimice la distancia L2 (ECM) entre $Xw$ y $y$:\n",
    "\n",
    "$$\n",
    "\\min_w d_2(Xw, y) \\quad \\text{or} \\quad \\min_w \\text{MSE}(Xw, y)\n",
    "$$\n",
    "\n",
    "Parece que hay una solución analítica para lo anteriormente expuesto:\n",
    "$$\n",
    "w = (X^T X)^{-1} X^T y\n",
    "$$\n",
    "\n",
    "La fórmula anterior puede servir para encontrar los pesos $w$ y estos últimos pueden utilizarse para calcular los valores predichos\n",
    "$$\n",
    "\\hat{y} = X_{val}w\n",
    "$$"
   ]
  },
  {
   "cell_type": "markdown",
   "metadata": {},
   "source": [
    "Divide todos los datos correspondientes a las etapas de entrenamiento/prueba respetando la proporción 70:30. Utiliza la métrica RECM para evaluar el modelo."
   ]
  },
  {
   "cell_type": "code",
   "execution_count": 35,
   "metadata": {},
   "outputs": [],
   "source": [
    "# Creamos una clase para implementar la regresión lineal\n",
    "class MyLinearRegression:\n",
    "    \n",
    "    # Definimos el constructor de la clase\n",
    "    def __init__(self):\n",
    "        # Inicializamos los pesos a None\n",
    "        self.weights = None\n",
    "    # Definimos el método fit para ajustar el modelo a los datos\n",
    "    def fit(self, X, y):\n",
    "        \n",
    "        # Añadimos la columna de unos a la matriz de características\n",
    "        X2 = np.append(np.ones([len(X), 1]), X, axis=1)\n",
    "        # Calculamos los pesos usando la fórmula de la regresión lineal\n",
    "        self.weights = np.linalg.inv(X2.T@X2)@X2.T@y\n",
    "\n",
    "    # Definimos el método predict para hacer predicciones con el modelo ajustado\n",
    "    def predict(self, X):\n",
    "        \n",
    "        # Añadimos la columna de unos a la matriz de características\n",
    "        X2 = np.append(np.ones([len(X), 1]), X, axis=1)\n",
    "        # Hacemos las predicciones multiplicando la matriz de características por los pesos\n",
    "        y_pred = X2 @ self.weights\n",
    "        \n",
    "        # Retornamos las predicciones\n",
    "        return y_pred"
   ]
  },
  {
   "cell_type": "code",
   "execution_count": 36,
   "metadata": {},
   "outputs": [],
   "source": [
    "# Creamos una función para evaluar el modelo de regresión lineal\n",
    "def eval_regressor(y_true, y_pred):\n",
    "    \n",
    "    # Calculamos el error absoluto medio (MAE) y lo imprimimos\n",
    "    rmse = math.sqrt(sklearn.metrics.mean_squared_error(y_true, y_pred))\n",
    "    print(f'RMSE: {rmse:.2f}')\n",
    "    # Calculamos el error cuadrático medio (MSE) y lo imprimimos\n",
    "    r2_score = math.sqrt(sklearn.metrics.r2_score(y_true, y_pred))\n",
    "    print(f'R2: {r2_score:.2f}')    "
   ]
  },
  {
   "cell_type": "code",
   "execution_count": 38,
   "metadata": {},
   "outputs": [
    {
     "name": "stdout",
     "output_type": "stream",
     "text": [
      "[-6.76460526e-01 -9.10304800e-04  2.50256936e-02  5.61681613e-07\n",
      " -4.62555346e-03]\n",
      "RMSE: 0.24\n",
      "R2: 0.64\n"
     ]
    }
   ],
   "source": [
    "# Entrenamiento de modelo regresion lineal y evaluacion con datos no escalados \n",
    "# Obtenemos las matrizes de características y objetivos para el entrenamiento y la prueba\n",
    "x_train = car_train.values\n",
    "y_train = obj_train.values\n",
    "x_test = car_test.values\n",
    "y_test = obj_test.values\n",
    "\n",
    "# Creamos una instancia de la clase MyLinearRegression\n",
    "lr = MyLinearRegression()\n",
    "\n",
    "# Entrenamos el modelo con los datos de entrenamiento y mostramos los pesos\n",
    "lr.fit(x_train, y_train)\n",
    "print(lr.weights)\n",
    "\n",
    "# Hacemos predicciones con los datos de prueba y evaluamos el modelo\n",
    "y_test_pred = lr.predict(x_test)\n",
    "eval_regressor(y_test, y_test_pred)"
   ]
  },
  {
   "cell_type": "markdown",
   "metadata": {},
   "source": [
    "Obtuvimos metricas que podriamos considerar regulares el error promedio que predice no tiene mucha variacion pero tambien sabemos que los numero no son tan grandes y el R2 tenemos igual un valor regular para las predicciones donde el modelo predice mucho mejor que usar la media "
   ]
  },
  {
   "cell_type": "code",
   "execution_count": 39,
   "metadata": {},
   "outputs": [
    {
     "name": "stdout",
     "output_type": "stream",
     "text": [
      "[-6.76460526e-01 -9.10304800e-04  1.62667009e+00  4.43728475e-02\n",
      " -2.77533207e-02]\n",
      "RMSE: 0.24\n",
      "R2: 0.64\n"
     ]
    }
   ],
   "source": [
    "# Entrenamiento de modelo regresion lineal y evaluacion con datos escalados\n",
    "x_train_scaled = car_train_scaled.values\n",
    "y_train_scaled = obj_train_scaled.values\n",
    "x_test_scaled = car_test_scaled.values\n",
    "y_test_scaled = obj_test_scaled.values\n",
    "\n",
    "lr = MyLinearRegression()\n",
    "\n",
    "lr.fit(x_train_scaled, y_train_scaled)\n",
    "print(lr.weights)\n",
    "\n",
    "y_test_pred_scaled = lr.predict(x_test_scaled)\n",
    "eval_regressor(y_test_scaled, y_test_pred_scaled)"
   ]
  },
  {
   "cell_type": "markdown",
   "metadata": {},
   "source": [
    "Observamos que los resultados con datos escalados y no escalados los resultados de RMSE y R2 para 'insurance_benefits' fueron igual"
   ]
  },
  {
   "cell_type": "markdown",
   "metadata": {},
   "source": [
    "# Tarea 4. Ofuscar datos"
   ]
  },
  {
   "cell_type": "markdown",
   "metadata": {},
   "source": [
    "Lo mejor es ofuscar los datos multiplicando las características numéricas (recuerda que se pueden ver como la matriz $X$) por una matriz invertible $P$. \n",
    "\n",
    "$$\n",
    "X' = X \\times P\n",
    "$$\n",
    "\n",
    "Trata de hacerlo y comprueba cómo quedarán los valores de las características después de la transformación. Por cierto, la propiedad de invertibilidad es importante aquí, así que asegúrate de que $P$ sea realmente invertible.\n",
    "\n",
    "Puedes revisar la lección 'Matrices y operaciones matriciales -> Multiplicación de matrices' para recordar la regla de multiplicación de matrices y su implementación con NumPy."
   ]
  },
  {
   "cell_type": "code",
   "execution_count": 40,
   "metadata": {},
   "outputs": [],
   "source": [
    "# Creamos una lista con las columnas de información personal que usaremos para el modelo de regresión lineal\n",
    "personal_info_column_list = ['gender', 'age', 'income', 'family_members']\n",
    "# Creamos un nuevo DataFrame con las columnas de información personal\n",
    "df_pn = df[personal_info_column_list]"
   ]
  },
  {
   "cell_type": "code",
   "execution_count": 41,
   "metadata": {},
   "outputs": [],
   "source": [
    "# Obtenemos la matriz de caracteristicas\n",
    "X = df_pn.to_numpy()"
   ]
  },
  {
   "cell_type": "markdown",
   "metadata": {},
   "source": [
    "Generar una matriz aleatoria $P$."
   ]
  },
  {
   "cell_type": "code",
   "execution_count": 42,
   "metadata": {},
   "outputs": [],
   "source": [
    "# Creamos una matriz para la ofucacion de la informacion personal\n",
    "rng = np.random.default_rng(seed=42)\n",
    "# Creamos una matriz aleatoria del tamaño de las columnas de X para que sea pueda multiplicada por la matriz de caracteristicas\n",
    "P = rng.random(size=(X.shape[1], X.shape[1]))"
   ]
  },
  {
   "cell_type": "markdown",
   "metadata": {},
   "source": [
    "Comprobar que la matriz P sea invertible"
   ]
  },
  {
   "cell_type": "code",
   "execution_count": 43,
   "metadata": {},
   "outputs": [],
   "source": [
    "# Comprobamos que la matriz aleatoria sea invertible\n",
    "y = np.linalg.inv(P)"
   ]
  },
  {
   "cell_type": "markdown",
   "metadata": {},
   "source": [
    "Al no devolvernos error con la funcion para la matriz inversa cuadrada podemos saber que si es invertible"
   ]
  },
  {
   "cell_type": "markdown",
   "metadata": {},
   "source": [
    "¿Puedes adivinar la edad o los ingresos de los clientes después de la transformación?"
   ]
  },
  {
   "cell_type": "code",
   "execution_count": 44,
   "metadata": {},
   "outputs": [
    {
     "data": {
      "text/plain": [
       "array([[ 6359.71527314, 22380.40467609, 18424.09074184, 46000.69669016],\n",
       "       [ 4873.29406479, 17160.36702982, 14125.78076133, 35253.45577301],\n",
       "       [ 2693.11742928,  9486.397744  ,  7808.83156024, 19484.86063067],\n",
       "       ...,\n",
       "       [ 4346.2234249 , 15289.24126492, 12586.16264392, 31433.50888552],\n",
       "       [ 4194.09324155, 14751.9910242 , 12144.02930637, 30323.88763426],\n",
       "       [ 5205.46827354, 18314.24814446, 15077.01370762, 37649.59295455]],\n",
       "      shape=(5000, 4))"
      ]
     },
     "execution_count": 44,
     "metadata": {},
     "output_type": "execute_result"
    }
   ],
   "source": [
    "#Multiplicacion para obtener datos ocultos\n",
    "datos_osf = X@P\n",
    "datos_osf"
   ]
  },
  {
   "cell_type": "markdown",
   "metadata": {},
   "source": [
    "No podemos saber los datos de ninguna tabla ni interpretarlo despues de multiplicarlo por una matriz revertible"
   ]
  },
  {
   "cell_type": "markdown",
   "metadata": {},
   "source": [
    "¿Puedes recuperar los datos originales de $X'$ si conoces $P$? Intenta comprobarlo a través de los cálculos moviendo $P$ del lado derecho de la fórmula anterior al izquierdo. En este caso las reglas de la multiplicación matricial son realmente útiles"
   ]
  },
  {
   "cell_type": "code",
   "execution_count": 65,
   "metadata": {},
   "outputs": [
    {
     "data": {
      "text/plain": [
       "array([[ 1.00000000e+00,  4.10000000e+01,  4.96000000e+04,\n",
       "         1.00000000e+00],\n",
       "       [-4.47363596e-12,  4.60000000e+01,  3.80000000e+04,\n",
       "         1.00000000e+00],\n",
       "       [-2.51586878e-12,  2.90000000e+01,  2.10000000e+04,\n",
       "         9.52452315e-13],\n",
       "       ...,\n",
       "       [-1.92837871e-12,  2.00000000e+01,  3.39000000e+04,\n",
       "         2.00000000e+00],\n",
       "       [ 1.00000000e+00,  2.20000000e+01,  3.27000000e+04,\n",
       "         3.00000000e+00],\n",
       "       [ 1.00000000e+00,  2.80000000e+01,  4.06000000e+04,\n",
       "         1.00000000e+00]])"
      ]
     },
     "execution_count": 65,
     "metadata": {},
     "output_type": "execute_result"
    }
   ],
   "source": [
    "# Multiplicacion de matriz de datos ocultos por la inversa de la matriz P\n",
    "datos_reales = datos_osf @ np.linalg.inv(P)\n",
    "datos_reales"
   ]
  },
  {
   "cell_type": "markdown",
   "metadata": {},
   "source": [
    "Muestra los tres casos para algunos clientes- Datos originales\n",
    "- El que está transformado- El que está invertido (recuperado)"
   ]
  },
  {
   "cell_type": "code",
   "execution_count": 66,
   "metadata": {},
   "outputs": [
    {
     "name": "stdout",
     "output_type": "stream",
     "text": [
      "Datos originales\n",
      "[[1.00e+00 4.10e+01 4.96e+04 1.00e+00]\n",
      " [0.00e+00 4.60e+01 3.80e+04 1.00e+00]\n",
      " [0.00e+00 2.90e+01 2.10e+04 0.00e+00]\n",
      " [0.00e+00 2.10e+01 4.17e+04 2.00e+00]\n",
      " [1.00e+00 2.80e+01 2.61e+04 0.00e+00]]\n",
      "Datos ocultos\n",
      "[[ 6359.71527314 22380.40467609 18424.09074184 46000.69669016]\n",
      " [ 4873.29406479 17160.36702982 14125.78076133 35253.45577301]\n",
      " [ 2693.11742928  9486.397744    7808.83156024 19484.86063067]\n",
      " [ 5345.60393712 18803.22720286 15479.14837264 38663.06186284]\n",
      " [ 3347.17673462 11782.82928336  9699.99894205 24211.27337753]]\n",
      "Datos reales\n",
      "[[ 1.00000000e+00  4.10000000e+01  4.96000000e+04  1.00000000e+00]\n",
      " [-4.47363596e-12  4.60000000e+01  3.80000000e+04  1.00000000e+00]\n",
      " [-2.51586878e-12  2.90000000e+01  2.10000000e+04  9.52452315e-13]\n",
      " [-4.84498208e-12  2.10000000e+01  4.17000000e+04  2.00000000e+00]\n",
      " [ 1.00000000e+00  2.80000000e+01  2.61000000e+04 -1.01990740e-13]]\n"
     ]
    }
   ],
   "source": [
    "#Datos de los primeros 5 clientes en los datos originales, oculto e invertidos\n",
    "print('Datos originales')\n",
    "print(X[:5])\n",
    "print('Datos ocultos')\n",
    "print(datos_osf[:5])\n",
    "print('Datos reales')\n",
    "print(datos_reales[:5])"
   ]
  },
  {
   "cell_type": "markdown",
   "metadata": {},
   "source": [
    "Seguramente puedes ver que algunos valores no son exactamente iguales a los de los datos originales. ¿Cuál podría ser la razón de ello?"
   ]
  },
  {
   "cell_type": "markdown",
   "metadata": {},
   "source": [
    "La razon podria ser que el numero tiene muchos decimales pero se aproxima a 0 por lo que si pasamos el numero a un entero obtendriamos el valor original "
   ]
  },
  {
   "cell_type": "markdown",
   "metadata": {},
   "source": [
    "## Prueba de que la ofuscación de datos puede funcionar con regresión lineal"
   ]
  },
  {
   "cell_type": "markdown",
   "metadata": {},
   "source": [
    "En este proyecto la tarea de regresión se ha resuelto con la regresión lineal. Tu siguiente tarea es demostrar _analytically_ que el método de ofuscación no afectará a la regresión lineal en términos de valores predichos, es decir, que sus valores seguirán siendo los mismos. ¿Lo puedes creer? Pues no hace falta que lo creas, ¡tienes que que demostrarlo!"
   ]
  },
  {
   "cell_type": "markdown",
   "metadata": {},
   "source": [
    "Entonces, los datos están ofuscados y ahora tenemos $X \\times P$ en lugar de tener solo $X$. En consecuencia, hay otros pesos $w_P$ como\n",
    "$$\n",
    "w = (X^T X)^{-1} X^T y \\quad \\Rightarrow \\quad w_P = [(XP)^T XP]^{-1} (XP)^T y\n",
    "$$\n",
    "\n",
    "¿Cómo se relacionarían $w$ y $w_P$ si simplificáramos la fórmula de $w_P$ anterior? \n",
    "\n",
    "¿Cuáles serían los valores predichos con $w_P$? \n",
    "\n",
    "¿Qué significa esto para la calidad de la regresión lineal si esta se mide mediante la RECM?\n",
    "Revisa el Apéndice B Propiedades de las matrices al final del cuaderno. ¡Allí encontrarás fórmulas muy útiles!\n",
    "\n",
    "No es necesario escribir código en esta sección, basta con una explicación analítica."
   ]
  },
  {
   "cell_type": "markdown",
   "metadata": {},
   "source": [
    "**Respuestas**"
   ]
  },
  {
   "cell_type": "markdown",
   "metadata": {},
   "source": [
    "wp = P^−1 w"
   ]
  },
  {
   "cell_type": "markdown",
   "metadata": {},
   "source": [
    "**Prueba analítica**"
   ]
  },
  {
   "cell_type": "markdown",
   "metadata": {},
   "source": [
    "(a = Xw) y (á=X'Wp) donde (X'=XP) y (Wp=P^-1*W) subtituimos X' y Wp y obtenemos (á = XW = a)"
   ]
  },
  {
   "cell_type": "markdown",
   "metadata": {},
   "source": [
    "De acuerdo a la prueba analitica donde subtituimos sabemos que los resultados con los datos ofuscados y los originales deben dar el mismo resultado"
   ]
  },
  {
   "cell_type": "markdown",
   "metadata": {},
   "source": [
    "## Prueba de regresión lineal con ofuscación de datos"
   ]
  },
  {
   "cell_type": "markdown",
   "metadata": {},
   "source": [
    "Ahora, probemos que la regresión lineal pueda funcionar, en términos computacionales, con la transformación de ofuscación elegida.\n",
    "Construye un procedimiento o una clase que ejecute la regresión lineal opcionalmente con la ofuscación. Puedes usar una implementación de regresión lineal de scikit-learn o tu propia implementación.\n",
    "Ejecuta la regresión lineal para los datos originales y los ofuscados, compara los valores predichos y los valores de las métricas RMSE y $R^2$. ¿Hay alguna diferencia?"
   ]
  },
  {
   "cell_type": "markdown",
   "metadata": {},
   "source": [
    "**Procedimiento**\n",
    "\n",
    "- Crea una matriz cuadrada $P$ de números aleatorios.- Comprueba que sea invertible. Si no lo es, repite el primer paso hasta obtener una matriz invertible.- <¡ tu comentario aquí !>\n",
    "- Utiliza $XP$ como la nueva matriz de características"
   ]
  },
  {
   "cell_type": "code",
   "execution_count": 45,
   "metadata": {},
   "outputs": [
    {
     "data": {
      "text/plain": [
       "array([[0.77395605, 0.43887844, 0.85859792, 0.69736803],\n",
       "       [0.09417735, 0.97562235, 0.7611397 , 0.78606431],\n",
       "       [0.12811363, 0.45038594, 0.37079802, 0.92676499],\n",
       "       [0.64386512, 0.82276161, 0.4434142 , 0.22723872]])"
      ]
     },
     "execution_count": 45,
     "metadata": {},
     "output_type": "execute_result"
    }
   ],
   "source": [
    "#Matriz cuadrada\n",
    "P"
   ]
  },
  {
   "cell_type": "code",
   "execution_count": 46,
   "metadata": {},
   "outputs": [
    {
     "data": {
      "text/plain": [
       "array([[ 1.00000000e+00, -1.69848573e-16, -7.58122972e-17,\n",
       "        -1.13112497e-16],\n",
       "       [-6.94895396e-17,  1.00000000e+00, -7.10568689e-17,\n",
       "         3.59096970e-17],\n",
       "       [-1.21269339e-16, -8.01461326e-17,  1.00000000e+00,\n",
       "         4.30764008e-19],\n",
       "       [-3.60694539e-16, -5.55430227e-16,  3.08072404e-16,\n",
       "         1.00000000e+00]])"
      ]
     },
     "execution_count": 46,
     "metadata": {},
     "output_type": "execute_result"
    }
   ],
   "source": [
    "#Comprobar que sea invertible \n",
    "P@np.linalg.inv(P)"
   ]
  },
  {
   "cell_type": "code",
   "execution_count": null,
   "metadata": {},
   "outputs": [
    {
     "name": "stdout",
     "output_type": "stream",
     "text": [
      "RMSE: 0.35\n",
      "R2: 0.63\n"
     ]
    }
   ],
   "source": [
    "# Prueba de metricas para comparar datos ofuscados y no ofuscados\n",
    "df_fin = df[feature_names]\n",
    "# Caracteristicas de los datos \n",
    "car_fin = df_fin.values\n",
    "# Objetivo de los datos \n",
    "obj_fin = df['insurance_benefits'].values\n",
    "\n",
    "# Dividir los datos en conjuntos de entrenamiento y prueba\n",
    "x_train_fin, x_test_fin, y_train_fin, y_test_fin = train_test_split(car_fin, obj_fin, test_size=0.3, random_state=10)\n",
    "\n",
    "# Crear una instancia de la clase MyLinearRegression y entrenar el modelo con los datos \n",
    "lr = MyLinearRegression()\n",
    "lr.fit(x_train_fin, y_train_fin)\n",
    "\n",
    "# Hacer predicciones con los datos de prueba \n",
    "y_predic_fin = lr.predict(x_test_fin)\n",
    "# Evaluar el modelo de regresión lineal con los datos de prueba\n",
    "eval_regressor(y_test_fin, y_predic_fin)"
   ]
  },
  {
   "cell_type": "code",
   "execution_count": null,
   "metadata": {},
   "outputs": [
    {
     "name": "stdout",
     "output_type": "stream",
     "text": [
      "RMSE: 0.35\n",
      "R2: 0.63\n"
     ]
    }
   ],
   "source": [
    "# Crear caracteristicas de los datos ofuscados\n",
    "car_ofu = car_fin@P\n",
    "# Dividir los datos ofuscados en conjuntos de entrenamiento y prueba\n",
    "x_train_fin, x_test_fin, y_train_fin, y_test_fin = train_test_split(car_ofu, obj_fin, test_size=0.3, random_state=10)\n",
    "\n",
    "# Crear una instancia de la clase MyLinearRegression y entrenar el modelo con los datos ofuscados\n",
    "lr = MyLinearRegression()\n",
    "lr.fit(x_train_fin, y_train_fin)\n",
    "\n",
    "# Hacer predicciones con los datos de prueba ofuscados\n",
    "y_predic_fin = lr.predict(x_test_fin)\n",
    "eval_regressor(y_test_fin, y_predic_fin)"
   ]
  },
  {
   "cell_type": "markdown",
   "metadata": {},
   "source": [
    "# Conclusiones"
   ]
  },
  {
   "cell_type": "markdown",
   "metadata": {},
   "source": [
    "Concluimos que las metricas de R2 y RMSE no fueron afectadas por la ofucasion de los datos como se vio en el analisis de las ecuaciones"
   ]
  },
  {
   "cell_type": "markdown",
   "metadata": {},
   "source": [
    "Gracias al proyecto se puso en practica las competencias y herramientas aprendidas en algebra lineal para observar su comportamiento en tareas de regresion y de clasificacion, tambien aprendimos que el escalado tiene un gran impacto en el entranamiento de KNeighbors ya que se obtiene mejores metricas en comparacion con regresion lineal que el escalado no tiene impacto."
   ]
  },
  {
   "cell_type": "markdown",
   "metadata": {},
   "source": [
    "Se adquirio conocimientos en la ofucasion de datos para proteger informacion privada con algebra lineal y que con ello no afectara la creacion de un modelo de regresion."
   ]
  }
 ],
 "metadata": {
  "ExecuteTimeLog": [
   {
    "duration": 2310,
    "start_time": "2025-03-26T21:19:36.506Z"
   },
   {
    "duration": 2154,
    "start_time": "2025-03-26T21:19:46.906Z"
   },
   {
    "duration": 2681,
    "start_time": "2025-03-26T21:19:53.737Z"
   },
   {
    "duration": 15,
    "start_time": "2025-03-26T21:20:02.728Z"
   },
   {
    "duration": 13,
    "start_time": "2025-03-26T21:20:41.400Z"
   },
   {
    "duration": 9,
    "start_time": "2025-03-26T21:22:35.011Z"
   },
   {
    "duration": 3,
    "start_time": "2025-03-26T21:23:05.848Z"
   },
   {
    "duration": 2,
    "start_time": "2025-03-26T21:23:15.046Z"
   },
   {
    "duration": 8,
    "start_time": "2025-03-26T21:23:29.171Z"
   },
   {
    "duration": 8,
    "start_time": "2025-03-26T21:23:36.486Z"
   },
   {
    "duration": 20,
    "start_time": "2025-03-26T21:24:40.940Z"
   },
   {
    "duration": 3,
    "start_time": "2025-03-26T21:39:13.785Z"
   },
   {
    "duration": 8,
    "start_time": "2025-03-26T21:39:14.267Z"
   },
   {
    "duration": 546,
    "start_time": "2025-03-26T21:39:17.889Z"
   },
   {
    "duration": 3,
    "start_time": "2025-03-26T21:40:09.318Z"
   },
   {
    "duration": 4,
    "start_time": "2025-03-26T21:40:09.858Z"
   },
   {
    "duration": 32,
    "start_time": "2025-03-26T21:40:11.068Z"
   },
   {
    "duration": 33,
    "start_time": "2025-03-26T21:40:21.677Z"
   },
   {
    "duration": 3,
    "start_time": "2025-03-26T21:40:29.956Z"
   },
   {
    "duration": 8,
    "start_time": "2025-03-26T21:40:31.975Z"
   },
   {
    "duration": 7,
    "start_time": "2025-03-26T21:40:34.446Z"
   },
   {
    "duration": 4,
    "start_time": "2025-03-26T21:56:13.576Z"
   },
   {
    "duration": 10,
    "start_time": "2025-03-26T21:57:10.713Z"
   },
   {
    "duration": 9,
    "start_time": "2025-03-26T21:57:11.078Z"
   },
   {
    "duration": 15,
    "start_time": "2025-03-26T21:58:36.356Z"
   },
   {
    "duration": 26,
    "start_time": "2025-03-26T21:58:46.118Z"
   },
   {
    "duration": 5,
    "start_time": "2025-03-26T21:59:07.323Z"
   },
   {
    "duration": 8,
    "start_time": "2025-03-26T21:59:08.258Z"
   },
   {
    "duration": 9,
    "start_time": "2025-03-26T21:59:08.673Z"
   },
   {
    "duration": 23,
    "start_time": "2025-03-26T21:59:10.700Z"
   },
   {
    "duration": 4,
    "start_time": "2025-03-26T22:00:01.526Z"
   },
   {
    "duration": 2,
    "start_time": "2025-03-26T22:00:14.251Z"
   },
   {
    "duration": 4,
    "start_time": "2025-03-26T22:00:14.737Z"
   },
   {
    "duration": 10,
    "start_time": "2025-03-26T22:00:15.638Z"
   },
   {
    "duration": 8,
    "start_time": "2025-03-26T22:00:16.068Z"
   },
   {
    "duration": 208,
    "start_time": "2025-03-26T22:00:17.241Z"
   },
   {
    "duration": 31,
    "start_time": "2025-03-26T22:00:44.202Z"
   },
   {
    "duration": 4,
    "start_time": "2025-03-26T22:00:54.211Z"
   },
   {
    "duration": 9,
    "start_time": "2025-03-26T22:00:55.006Z"
   },
   {
    "duration": 11,
    "start_time": "2025-03-26T22:00:55.405Z"
   },
   {
    "duration": 17,
    "start_time": "2025-03-26T22:00:56.445Z"
   },
   {
    "duration": 29,
    "start_time": "2025-03-26T22:01:20.837Z"
   },
   {
    "duration": 20,
    "start_time": "2025-03-26T22:14:53.724Z"
   },
   {
    "duration": 22,
    "start_time": "2025-03-26T22:15:33.625Z"
   },
   {
    "duration": 41,
    "start_time": "2025-03-26T22:15:49.687Z"
   },
   {
    "duration": 22,
    "start_time": "2025-03-26T22:16:02.102Z"
   },
   {
    "duration": 21,
    "start_time": "2025-03-26T22:16:38.174Z"
   },
   {
    "duration": 20,
    "start_time": "2025-03-26T22:16:38.915Z"
   },
   {
    "duration": 13,
    "start_time": "2025-03-26T22:17:25.195Z"
   },
   {
    "duration": 12,
    "start_time": "2025-03-26T22:23:33.927Z"
   },
   {
    "duration": 2681,
    "start_time": "2025-03-27T00:07:30.607Z"
   },
   {
    "duration": 2554,
    "start_time": "2025-03-27T00:16:14.836Z"
   },
   {
    "duration": 3,
    "start_time": "2025-03-27T00:16:18.775Z"
   },
   {
    "duration": 14,
    "start_time": "2025-03-27T00:16:27.036Z"
   },
   {
    "duration": 3,
    "start_time": "2025-03-27T00:16:27.756Z"
   },
   {
    "duration": 13,
    "start_time": "2025-03-27T00:16:28.013Z"
   },
   {
    "duration": 10,
    "start_time": "2025-03-27T00:16:28.510Z"
   },
   {
    "duration": 704,
    "start_time": "2025-03-27T00:16:28.901Z"
   },
   {
    "duration": 0,
    "start_time": "2025-03-27T00:16:29.606Z"
   },
   {
    "duration": 0,
    "start_time": "2025-03-27T00:16:29.607Z"
   },
   {
    "duration": 17,
    "start_time": "2025-03-27T00:16:29.788Z"
   },
   {
    "duration": 2582,
    "start_time": "2025-03-27T00:16:31.863Z"
   },
   {
    "duration": 3,
    "start_time": "2025-03-27T00:16:34.447Z"
   },
   {
    "duration": 4,
    "start_time": "2025-03-27T00:16:34.453Z"
   },
   {
    "duration": 118,
    "start_time": "2025-03-27T00:16:34.459Z"
   },
   {
    "duration": 0,
    "start_time": "2025-03-27T00:16:34.579Z"
   },
   {
    "duration": 14,
    "start_time": "2025-03-27T00:16:34.993Z"
   },
   {
    "duration": 2102,
    "start_time": "2025-03-27T00:17:04.473Z"
   },
   {
    "duration": 981,
    "start_time": "2025-03-27T00:17:06.577Z"
   },
   {
    "duration": 10,
    "start_time": "2025-03-27T00:17:07.559Z"
   },
   {
    "duration": 3,
    "start_time": "2025-03-27T00:17:07.572Z"
   },
   {
    "duration": 12,
    "start_time": "2025-03-27T00:17:07.577Z"
   },
   {
    "duration": 10,
    "start_time": "2025-03-27T00:17:07.591Z"
   },
   {
    "duration": 666,
    "start_time": "2025-03-27T00:17:07.604Z"
   },
   {
    "duration": 0,
    "start_time": "2025-03-27T00:17:08.273Z"
   },
   {
    "duration": 0,
    "start_time": "2025-03-27T00:17:08.274Z"
   },
   {
    "duration": 0,
    "start_time": "2025-03-27T00:17:08.276Z"
   },
   {
    "duration": 0,
    "start_time": "2025-03-27T00:17:08.277Z"
   },
   {
    "duration": 0,
    "start_time": "2025-03-27T00:17:08.278Z"
   },
   {
    "duration": 0,
    "start_time": "2025-03-27T00:17:08.278Z"
   },
   {
    "duration": 0,
    "start_time": "2025-03-27T00:17:08.279Z"
   },
   {
    "duration": 0,
    "start_time": "2025-03-27T00:17:08.280Z"
   },
   {
    "duration": 0,
    "start_time": "2025-03-27T00:17:08.281Z"
   },
   {
    "duration": 0,
    "start_time": "2025-03-27T00:17:08.282Z"
   },
   {
    "duration": 0,
    "start_time": "2025-03-27T00:17:08.283Z"
   },
   {
    "duration": 0,
    "start_time": "2025-03-27T00:17:08.284Z"
   },
   {
    "duration": 0,
    "start_time": "2025-03-27T00:17:08.286Z"
   },
   {
    "duration": 0,
    "start_time": "2025-03-27T00:17:08.287Z"
   },
   {
    "duration": 0,
    "start_time": "2025-03-27T00:17:08.289Z"
   },
   {
    "duration": 0,
    "start_time": "2025-03-27T00:17:08.290Z"
   },
   {
    "duration": 0,
    "start_time": "2025-03-27T00:17:08.292Z"
   },
   {
    "duration": 0,
    "start_time": "2025-03-27T00:17:08.293Z"
   },
   {
    "duration": 0,
    "start_time": "2025-03-27T00:17:08.324Z"
   },
   {
    "duration": 0,
    "start_time": "2025-03-27T00:17:08.325Z"
   },
   {
    "duration": 1,
    "start_time": "2025-03-27T00:17:08.326Z"
   },
   {
    "duration": 0,
    "start_time": "2025-03-27T00:17:08.328Z"
   },
   {
    "duration": 0,
    "start_time": "2025-03-27T00:17:08.329Z"
   },
   {
    "duration": 3,
    "start_time": "2025-03-27T00:17:38.010Z"
   },
   {
    "duration": 13,
    "start_time": "2025-03-27T00:17:38.983Z"
   },
   {
    "duration": 2134,
    "start_time": "2025-03-27T00:17:47.377Z"
   },
   {
    "duration": 3,
    "start_time": "2025-03-27T00:17:52.355Z"
   },
   {
    "duration": 7,
    "start_time": "2025-03-27T00:17:53.953Z"
   },
   {
    "duration": 3,
    "start_time": "2025-03-27T00:17:54.966Z"
   },
   {
    "duration": 17,
    "start_time": "2025-03-27T00:17:55.638Z"
   },
   {
    "duration": 4,
    "start_time": "2025-03-27T00:18:12.076Z"
   },
   {
    "duration": 11,
    "start_time": "2025-03-27T00:18:13.724Z"
   },
   {
    "duration": 3,
    "start_time": "2025-03-27T00:18:14.471Z"
   },
   {
    "duration": 18,
    "start_time": "2025-03-27T00:18:14.924Z"
   },
   {
    "duration": 2598,
    "start_time": "2025-03-27T00:18:18.995Z"
   },
   {
    "duration": 2,
    "start_time": "2025-03-27T00:18:46.492Z"
   },
   {
    "duration": 4,
    "start_time": "2025-03-27T00:18:46.907Z"
   },
   {
    "duration": 10,
    "start_time": "2025-03-27T00:18:48.774Z"
   },
   {
    "duration": 9,
    "start_time": "2025-03-27T00:18:49.356Z"
   },
   {
    "duration": 21,
    "start_time": "2025-03-27T00:18:52.520Z"
   },
   {
    "duration": 20,
    "start_time": "2025-03-27T00:18:53.072Z"
   },
   {
    "duration": 12,
    "start_time": "2025-03-27T00:18:53.653Z"
   },
   {
    "duration": 13,
    "start_time": "2025-03-27T00:18:54.182Z"
   },
   {
    "duration": 4,
    "start_time": "2025-03-27T00:19:27.530Z"
   },
   {
    "duration": 124,
    "start_time": "2025-03-27T00:20:54.081Z"
   },
   {
    "duration": 184,
    "start_time": "2025-03-27T00:23:40.523Z"
   },
   {
    "duration": 86,
    "start_time": "2025-03-27T00:24:04.313Z"
   },
   {
    "duration": 6,
    "start_time": "2025-03-27T00:24:29.872Z"
   },
   {
    "duration": 14,
    "start_time": "2025-03-27T00:24:43.998Z"
   },
   {
    "duration": 3,
    "start_time": "2025-03-27T00:25:02.986Z"
   },
   {
    "duration": 82,
    "start_time": "2025-03-27T00:25:08.745Z"
   },
   {
    "duration": 4,
    "start_time": "2025-03-27T00:25:48.505Z"
   },
   {
    "duration": 194,
    "start_time": "2025-03-27T00:26:06.942Z"
   },
   {
    "duration": 152,
    "start_time": "2025-03-27T00:26:18.009Z"
   },
   {
    "duration": 5,
    "start_time": "2025-03-27T00:26:52.904Z"
   },
   {
    "duration": 3,
    "start_time": "2025-03-27T00:27:37.364Z"
   },
   {
    "duration": 2,
    "start_time": "2025-03-27T00:28:22.134Z"
   },
   {
    "duration": 5,
    "start_time": "2025-03-27T00:28:30.458Z"
   },
   {
    "duration": 6,
    "start_time": "2025-03-27T01:03:48.074Z"
   },
   {
    "duration": 3,
    "start_time": "2025-03-27T01:03:49.704Z"
   },
   {
    "duration": 6,
    "start_time": "2025-03-27T01:11:21.764Z"
   },
   {
    "duration": 9,
    "start_time": "2025-03-27T01:15:07.688Z"
   },
   {
    "duration": 9,
    "start_time": "2025-03-27T01:16:01.241Z"
   },
   {
    "duration": 9,
    "start_time": "2025-03-27T01:17:39.620Z"
   },
   {
    "duration": 12,
    "start_time": "2025-03-27T01:19:16.468Z"
   },
   {
    "duration": 24,
    "start_time": "2025-03-27T01:19:46.987Z"
   },
   {
    "duration": 15,
    "start_time": "2025-03-27T01:19:57.666Z"
   },
   {
    "duration": 12,
    "start_time": "2025-03-27T01:23:35.019Z"
   },
   {
    "duration": 19,
    "start_time": "2025-03-27T01:24:54.757Z"
   },
   {
    "duration": 8,
    "start_time": "2025-03-27T01:25:29.476Z"
   },
   {
    "duration": 20,
    "start_time": "2025-03-27T01:27:03.411Z"
   },
   {
    "duration": 430,
    "start_time": "2025-03-27T01:35:14.550Z"
   },
   {
    "duration": 2789,
    "start_time": "2025-03-27T01:42:44.637Z"
   },
   {
    "duration": 5,
    "start_time": "2025-03-27T01:42:48.029Z"
   },
   {
    "duration": 11,
    "start_time": "2025-03-27T01:42:54.769Z"
   },
   {
    "duration": 5,
    "start_time": "2025-03-27T01:42:55.903Z"
   },
   {
    "duration": 2361,
    "start_time": "2025-03-27T03:10:09.605Z"
   },
   {
    "duration": 2603,
    "start_time": "2025-03-27T03:10:12.971Z"
   },
   {
    "duration": 12,
    "start_time": "2025-03-27T03:10:16.718Z"
   },
   {
    "duration": 4,
    "start_time": "2025-03-27T03:10:17.049Z"
   },
   {
    "duration": 13,
    "start_time": "2025-03-27T03:10:17.241Z"
   },
   {
    "duration": 8,
    "start_time": "2025-03-27T03:10:17.438Z"
   },
   {
    "duration": 3,
    "start_time": "2025-03-27T03:10:17.607Z"
   },
   {
    "duration": 8,
    "start_time": "2025-03-27T03:10:17.790Z"
   },
   {
    "duration": 2,
    "start_time": "2025-03-27T03:10:17.950Z"
   },
   {
    "duration": 16,
    "start_time": "2025-03-27T03:10:18.099Z"
   },
   {
    "duration": 2614,
    "start_time": "2025-03-27T03:10:18.750Z"
   },
   {
    "duration": 2,
    "start_time": "2025-03-27T03:10:21.367Z"
   },
   {
    "duration": 5,
    "start_time": "2025-03-27T03:10:21.371Z"
   },
   {
    "duration": 8,
    "start_time": "2025-03-27T03:10:21.378Z"
   },
   {
    "duration": 104,
    "start_time": "2025-03-27T03:10:21.387Z"
   },
   {
    "duration": 23,
    "start_time": "2025-03-27T03:10:21.493Z"
   },
   {
    "duration": 30,
    "start_time": "2025-03-27T03:10:21.518Z"
   },
   {
    "duration": 12,
    "start_time": "2025-03-27T03:10:21.549Z"
   },
   {
    "duration": 11,
    "start_time": "2025-03-27T03:10:21.563Z"
   },
   {
    "duration": 4,
    "start_time": "2025-03-27T03:10:22.925Z"
   },
   {
    "duration": 89,
    "start_time": "2025-03-27T03:10:23.599Z"
   },
   {
    "duration": 5,
    "start_time": "2025-03-27T03:10:23.951Z"
   },
   {
    "duration": 3,
    "start_time": "2025-03-27T03:10:24.160Z"
   },
   {
    "duration": 3,
    "start_time": "2025-03-27T03:10:24.554Z"
   },
   {
    "duration": 7,
    "start_time": "2025-03-27T03:10:24.789Z"
   },
   {
    "duration": 19,
    "start_time": "2025-03-27T03:10:24.988Z"
   },
   {
    "duration": 284,
    "start_time": "2025-03-27T03:10:25.205Z"
   },
   {
    "duration": 364,
    "start_time": "2025-03-27T03:11:00.910Z"
   },
   {
    "duration": 2318,
    "start_time": "2025-03-27T22:19:05.604Z"
   },
   {
    "duration": 2666,
    "start_time": "2025-03-27T22:19:07.924Z"
   },
   {
    "duration": 9,
    "start_time": "2025-03-27T22:19:10.592Z"
   },
   {
    "duration": 3,
    "start_time": "2025-03-27T22:19:10.603Z"
   },
   {
    "duration": 12,
    "start_time": "2025-03-27T22:19:10.609Z"
   },
   {
    "duration": 25,
    "start_time": "2025-03-27T22:19:10.622Z"
   },
   {
    "duration": 3,
    "start_time": "2025-03-27T22:19:10.650Z"
   },
   {
    "duration": 9,
    "start_time": "2025-03-27T22:19:10.655Z"
   },
   {
    "duration": 1,
    "start_time": "2025-03-27T22:19:10.666Z"
   },
   {
    "duration": 15,
    "start_time": "2025-03-27T22:19:10.669Z"
   },
   {
    "duration": 2542,
    "start_time": "2025-03-27T22:19:10.686Z"
   },
   {
    "duration": 3,
    "start_time": "2025-03-27T22:19:13.229Z"
   },
   {
    "duration": 4,
    "start_time": "2025-03-27T22:19:13.234Z"
   },
   {
    "duration": 82,
    "start_time": "2025-03-27T22:19:13.242Z"
   },
   {
    "duration": 9,
    "start_time": "2025-03-27T22:19:13.326Z"
   },
   {
    "duration": 24,
    "start_time": "2025-03-27T22:19:13.336Z"
   },
   {
    "duration": 19,
    "start_time": "2025-03-27T22:19:13.362Z"
   },
   {
    "duration": 13,
    "start_time": "2025-03-27T22:19:13.382Z"
   },
   {
    "duration": 12,
    "start_time": "2025-03-27T22:19:13.397Z"
   },
   {
    "duration": 33,
    "start_time": "2025-03-27T22:19:13.411Z"
   },
   {
    "duration": 79,
    "start_time": "2025-03-27T22:19:13.446Z"
   },
   {
    "duration": 17,
    "start_time": "2025-03-27T22:19:13.527Z"
   },
   {
    "duration": 3,
    "start_time": "2025-03-27T22:19:13.546Z"
   },
   {
    "duration": 3,
    "start_time": "2025-03-27T22:19:13.551Z"
   },
   {
    "duration": 6,
    "start_time": "2025-03-27T22:19:13.556Z"
   },
   {
    "duration": 19,
    "start_time": "2025-03-27T22:19:13.564Z"
   },
   {
    "duration": 306,
    "start_time": "2025-03-27T22:19:13.585Z"
   },
   {
    "duration": 415,
    "start_time": "2025-03-27T22:19:13.893Z"
   },
   {
    "duration": 6,
    "start_time": "2025-03-27T22:19:14.310Z"
   },
   {
    "duration": 0,
    "start_time": "2025-03-27T22:19:14.317Z"
   },
   {
    "duration": 0,
    "start_time": "2025-03-27T22:19:14.319Z"
   },
   {
    "duration": 0,
    "start_time": "2025-03-27T22:19:14.320Z"
   },
   {
    "duration": 0,
    "start_time": "2025-03-27T22:19:14.321Z"
   },
   {
    "duration": 0,
    "start_time": "2025-03-27T22:19:14.322Z"
   },
   {
    "duration": 3,
    "start_time": "2025-03-27T23:09:35.428Z"
   },
   {
    "duration": 3,
    "start_time": "2025-03-27T23:09:46.849Z"
   },
   {
    "duration": 370,
    "start_time": "2025-03-27T23:11:02.473Z"
   },
   {
    "duration": 3,
    "start_time": "2025-03-27T23:11:27.237Z"
   },
   {
    "duration": 9,
    "start_time": "2025-03-27T23:11:31.764Z"
   },
   {
    "duration": 15,
    "start_time": "2025-03-27T23:14:44.253Z"
   },
   {
    "duration": 14,
    "start_time": "2025-03-27T23:15:00.211Z"
   },
   {
    "duration": 10,
    "start_time": "2025-03-27T23:15:10.699Z"
   },
   {
    "duration": 13,
    "start_time": "2025-03-27T23:19:02.416Z"
   },
   {
    "duration": 5,
    "start_time": "2025-03-27T23:19:26.771Z"
   },
   {
    "duration": 2,
    "start_time": "2025-03-27T23:21:25.359Z"
   },
   {
    "duration": 25,
    "start_time": "2025-03-27T23:21:57.770Z"
   },
   {
    "duration": 9,
    "start_time": "2025-03-27T23:22:52.267Z"
   },
   {
    "duration": 5,
    "start_time": "2025-03-27T23:28:47.886Z"
   },
   {
    "duration": 7,
    "start_time": "2025-03-27T23:29:07.221Z"
   },
   {
    "duration": 5,
    "start_time": "2025-03-27T23:29:10.313Z"
   },
   {
    "duration": 8,
    "start_time": "2025-03-27T23:29:43.516Z"
   },
   {
    "duration": 8,
    "start_time": "2025-03-27T23:29:45.042Z"
   },
   {
    "duration": 4,
    "start_time": "2025-03-27T23:30:12.201Z"
   },
   {
    "duration": 8,
    "start_time": "2025-03-27T23:30:25.689Z"
   },
   {
    "duration": 3,
    "start_time": "2025-03-27T23:58:46.720Z"
   },
   {
    "duration": 5,
    "start_time": "2025-03-27T23:58:48.313Z"
   },
   {
    "duration": 4,
    "start_time": "2025-03-28T00:02:06.617Z"
   },
   {
    "duration": 3,
    "start_time": "2025-03-28T00:02:33.875Z"
   },
   {
    "duration": 4,
    "start_time": "2025-03-28T00:02:40.177Z"
   },
   {
    "duration": 4,
    "start_time": "2025-03-28T00:02:56.800Z"
   },
   {
    "duration": 4,
    "start_time": "2025-03-28T00:03:15.588Z"
   },
   {
    "duration": 4,
    "start_time": "2025-03-28T00:03:25.774Z"
   },
   {
    "duration": 3,
    "start_time": "2025-03-28T00:07:00.919Z"
   },
   {
    "duration": 3,
    "start_time": "2025-03-28T00:09:44.637Z"
   },
   {
    "duration": 4,
    "start_time": "2025-03-28T00:09:53.341Z"
   },
   {
    "duration": 4,
    "start_time": "2025-03-28T00:10:13.443Z"
   },
   {
    "duration": 9,
    "start_time": "2025-03-28T00:11:42.945Z"
   },
   {
    "duration": 3,
    "start_time": "2025-03-28T00:13:50.881Z"
   },
   {
    "duration": 4,
    "start_time": "2025-03-28T00:13:53.436Z"
   },
   {
    "duration": 5,
    "start_time": "2025-03-28T00:13:54.946Z"
   },
   {
    "duration": 4,
    "start_time": "2025-03-28T00:15:19.609Z"
   },
   {
    "duration": 4,
    "start_time": "2025-03-28T00:35:21.505Z"
   },
   {
    "duration": 4,
    "start_time": "2025-03-28T00:36:10.831Z"
   },
   {
    "duration": 4,
    "start_time": "2025-03-28T00:41:34.316Z"
   },
   {
    "duration": 4,
    "start_time": "2025-03-28T00:42:42.866Z"
   },
   {
    "duration": 105,
    "start_time": "2025-03-28T00:44:54.998Z"
   },
   {
    "duration": 17,
    "start_time": "2025-03-28T00:45:22.974Z"
   },
   {
    "duration": 35,
    "start_time": "2025-03-28T00:45:47.416Z"
   },
   {
    "duration": 6,
    "start_time": "2025-03-28T00:46:03.763Z"
   },
   {
    "duration": 3,
    "start_time": "2025-03-28T00:46:40.235Z"
   },
   {
    "duration": 7,
    "start_time": "2025-03-28T00:47:10.796Z"
   },
   {
    "duration": 3,
    "start_time": "2025-03-28T00:53:11.717Z"
   }
  ],
  "kernelspec": {
   "display_name": "Python 3",
   "language": "python",
   "name": "python3"
  },
  "language_info": {
   "codemirror_mode": {
    "name": "ipython",
    "version": 3
   },
   "file_extension": ".py",
   "mimetype": "text/x-python",
   "name": "python",
   "nbconvert_exporter": "python",
   "pygments_lexer": "ipython3",
   "version": "3.13.2"
  },
  "toc": {
   "base_numbering": 1,
   "nav_menu": {},
   "number_sections": true,
   "sideBar": true,
   "skip_h1_title": true,
   "title_cell": "Table of Contents",
   "title_sidebar": "Contents",
   "toc_cell": false,
   "toc_position": {},
   "toc_section_display": true,
   "toc_window_display": false
  }
 },
 "nbformat": 4,
 "nbformat_minor": 4
}
